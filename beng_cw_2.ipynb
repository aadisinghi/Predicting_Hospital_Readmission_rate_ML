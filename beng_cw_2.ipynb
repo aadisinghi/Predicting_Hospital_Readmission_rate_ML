{
 "cells": [
  {
   "cell_type": "code",
   "execution_count": 42,
   "id": "a8fc320e",
   "metadata": {},
   "outputs": [],
   "source": [
    "import numpy as np\n",
    "import matplotlib.pyplot as plt\n",
    "import pandas as pd\n",
    "\n",
    "from os import chdir\n",
    "from sklearn.model_selection import train_test_split\n",
    "from sklearn.preprocessing import StandardScaler\n",
    "from sklearn.impute import SimpleImputer\n",
    "from sklearn.discriminant_analysis import LinearDiscriminantAnalysis as LDA\n",
    "from sklearn.discriminant_analysis import QuadraticDiscriminantAnalysis as QDA\n",
    "from sklearn.linear_model import LogisticRegression\n",
    "from sklearn.naive_bayes import GaussianNB\n",
    "from sklearn.preprocessing import LabelEncoder\n",
    "from sklearn.metrics import accuracy_score, roc_curve, precision_recall_curve"
   ]
  },
  {
   "cell_type": "code",
   "execution_count": 61,
   "id": "362d9ee3",
   "metadata": {},
   "outputs": [],
   "source": [
    "import os \n",
    "subdirectory_path = r\"C:\\Users\\aadis\\OneDrive\\Desktop\\beng\\Dataset\\Dataset\"\n",
    "os.chdir(subdirectory_path)\n",
    "\n",
    "# read .csv file with pandas.read_csv\n",
    "data = pd.read_csv('diabetic_data_training.csv',low_memory=False)\n"
   ]
  },
  {
   "cell_type": "code",
   "execution_count": 62,
   "id": "7915cf67",
   "metadata": {},
   "outputs": [
    {
     "data": {
      "text/html": [
       "<div>\n",
       "<style scoped>\n",
       "    .dataframe tbody tr th:only-of-type {\n",
       "        vertical-align: middle;\n",
       "    }\n",
       "\n",
       "    .dataframe tbody tr th {\n",
       "        vertical-align: top;\n",
       "    }\n",
       "\n",
       "    .dataframe thead th {\n",
       "        text-align: right;\n",
       "    }\n",
       "</style>\n",
       "<table border=\"1\" class=\"dataframe\">\n",
       "  <thead>\n",
       "    <tr style=\"text-align: right;\">\n",
       "      <th></th>\n",
       "      <th>encounter_id</th>\n",
       "      <th>patient_nbr</th>\n",
       "      <th>race</th>\n",
       "      <th>gender</th>\n",
       "      <th>age</th>\n",
       "      <th>weight</th>\n",
       "      <th>admission_type_id</th>\n",
       "      <th>discharge_disposition_id</th>\n",
       "      <th>admission_source_id</th>\n",
       "      <th>time_in_hospital</th>\n",
       "      <th>...</th>\n",
       "      <th>citoglipton</th>\n",
       "      <th>insulin</th>\n",
       "      <th>glyburide-metformin</th>\n",
       "      <th>glipizide-metformin</th>\n",
       "      <th>glimepiride-pioglitazone</th>\n",
       "      <th>metformin-rosiglitazone</th>\n",
       "      <th>metformin-pioglitazone</th>\n",
       "      <th>change</th>\n",
       "      <th>diabetesMed</th>\n",
       "      <th>readmitted</th>\n",
       "    </tr>\n",
       "  </thead>\n",
       "  <tbody>\n",
       "    <tr>\n",
       "      <th>0</th>\n",
       "      <td>149190</td>\n",
       "      <td>55629189</td>\n",
       "      <td>Caucasian</td>\n",
       "      <td>Female</td>\n",
       "      <td>[10-20)</td>\n",
       "      <td>?</td>\n",
       "      <td>1</td>\n",
       "      <td>1</td>\n",
       "      <td>7</td>\n",
       "      <td>3</td>\n",
       "      <td>...</td>\n",
       "      <td>No</td>\n",
       "      <td>Up</td>\n",
       "      <td>No</td>\n",
       "      <td>No</td>\n",
       "      <td>No</td>\n",
       "      <td>No</td>\n",
       "      <td>No</td>\n",
       "      <td>Ch</td>\n",
       "      <td>Yes</td>\n",
       "      <td>&gt;30</td>\n",
       "    </tr>\n",
       "    <tr>\n",
       "      <th>1</th>\n",
       "      <td>64410</td>\n",
       "      <td>86047875</td>\n",
       "      <td>AfricanAmerican</td>\n",
       "      <td>Female</td>\n",
       "      <td>[20-30)</td>\n",
       "      <td>?</td>\n",
       "      <td>1</td>\n",
       "      <td>1</td>\n",
       "      <td>7</td>\n",
       "      <td>2</td>\n",
       "      <td>...</td>\n",
       "      <td>No</td>\n",
       "      <td>No</td>\n",
       "      <td>No</td>\n",
       "      <td>No</td>\n",
       "      <td>No</td>\n",
       "      <td>No</td>\n",
       "      <td>No</td>\n",
       "      <td>No</td>\n",
       "      <td>Yes</td>\n",
       "      <td>NO</td>\n",
       "    </tr>\n",
       "    <tr>\n",
       "      <th>2</th>\n",
       "      <td>500364</td>\n",
       "      <td>82442376</td>\n",
       "      <td>Caucasian</td>\n",
       "      <td>Male</td>\n",
       "      <td>[30-40)</td>\n",
       "      <td>?</td>\n",
       "      <td>1</td>\n",
       "      <td>1</td>\n",
       "      <td>7</td>\n",
       "      <td>2</td>\n",
       "      <td>...</td>\n",
       "      <td>No</td>\n",
       "      <td>Up</td>\n",
       "      <td>No</td>\n",
       "      <td>No</td>\n",
       "      <td>No</td>\n",
       "      <td>No</td>\n",
       "      <td>No</td>\n",
       "      <td>Ch</td>\n",
       "      <td>Yes</td>\n",
       "      <td>NO</td>\n",
       "    </tr>\n",
       "    <tr>\n",
       "      <th>3</th>\n",
       "      <td>16680</td>\n",
       "      <td>42519267</td>\n",
       "      <td>Caucasian</td>\n",
       "      <td>Male</td>\n",
       "      <td>[40-50)</td>\n",
       "      <td>?</td>\n",
       "      <td>1</td>\n",
       "      <td>1</td>\n",
       "      <td>7</td>\n",
       "      <td>1</td>\n",
       "      <td>...</td>\n",
       "      <td>No</td>\n",
       "      <td>Steady</td>\n",
       "      <td>No</td>\n",
       "      <td>No</td>\n",
       "      <td>No</td>\n",
       "      <td>No</td>\n",
       "      <td>No</td>\n",
       "      <td>Ch</td>\n",
       "      <td>Yes</td>\n",
       "      <td>NO</td>\n",
       "    </tr>\n",
       "    <tr>\n",
       "      <th>4</th>\n",
       "      <td>35754</td>\n",
       "      <td>82637451</td>\n",
       "      <td>Caucasian</td>\n",
       "      <td>Male</td>\n",
       "      <td>[50-60)</td>\n",
       "      <td>?</td>\n",
       "      <td>2</td>\n",
       "      <td>1</td>\n",
       "      <td>2</td>\n",
       "      <td>3</td>\n",
       "      <td>...</td>\n",
       "      <td>No</td>\n",
       "      <td>Steady</td>\n",
       "      <td>No</td>\n",
       "      <td>No</td>\n",
       "      <td>No</td>\n",
       "      <td>No</td>\n",
       "      <td>No</td>\n",
       "      <td>No</td>\n",
       "      <td>Yes</td>\n",
       "      <td>&gt;30</td>\n",
       "    </tr>\n",
       "  </tbody>\n",
       "</table>\n",
       "<p>5 rows × 50 columns</p>\n",
       "</div>"
      ],
      "text/plain": [
       "   encounter_id  patient_nbr             race  gender      age weight  \\\n",
       "0        149190     55629189        Caucasian  Female  [10-20)      ?   \n",
       "1         64410     86047875  AfricanAmerican  Female  [20-30)      ?   \n",
       "2        500364     82442376        Caucasian    Male  [30-40)      ?   \n",
       "3         16680     42519267        Caucasian    Male  [40-50)      ?   \n",
       "4         35754     82637451        Caucasian    Male  [50-60)      ?   \n",
       "\n",
       "   admission_type_id  discharge_disposition_id  admission_source_id  \\\n",
       "0                  1                         1                    7   \n",
       "1                  1                         1                    7   \n",
       "2                  1                         1                    7   \n",
       "3                  1                         1                    7   \n",
       "4                  2                         1                    2   \n",
       "\n",
       "   time_in_hospital  ... citoglipton insulin  glyburide-metformin  \\\n",
       "0                 3  ...          No      Up                   No   \n",
       "1                 2  ...          No      No                   No   \n",
       "2                 2  ...          No      Up                   No   \n",
       "3                 1  ...          No  Steady                   No   \n",
       "4                 3  ...          No  Steady                   No   \n",
       "\n",
       "   glipizide-metformin  glimepiride-pioglitazone  metformin-rosiglitazone  \\\n",
       "0                   No                        No                       No   \n",
       "1                   No                        No                       No   \n",
       "2                   No                        No                       No   \n",
       "3                   No                        No                       No   \n",
       "4                   No                        No                       No   \n",
       "\n",
       "   metformin-pioglitazone  change diabetesMed readmitted  \n",
       "0                      No      Ch         Yes        >30  \n",
       "1                      No      No         Yes         NO  \n",
       "2                      No      Ch         Yes         NO  \n",
       "3                      No      Ch         Yes         NO  \n",
       "4                      No      No         Yes        >30  \n",
       "\n",
       "[5 rows x 50 columns]"
      ]
     },
     "execution_count": 62,
     "metadata": {},
     "output_type": "execute_result"
    }
   ],
   "source": [
    "data.head()"
   ]
  },
  {
   "cell_type": "code",
   "execution_count": 63,
   "id": "759b019b",
   "metadata": {},
   "outputs": [
    {
     "data": {
      "text/plain": [
       "Index(['encounter_id', 'patient_nbr', 'race', 'gender', 'age', 'weight',\n",
       "       'admission_type_id', 'discharge_disposition_id', 'admission_source_id',\n",
       "       'time_in_hospital', 'payer_code', 'medical_specialty',\n",
       "       'num_lab_procedures', 'num_procedures', 'num_medications',\n",
       "       'number_outpatient', 'number_emergency', 'number_inpatient', 'diag_1',\n",
       "       'diag_2', 'diag_3', 'number_diagnoses', 'max_glu_serum', 'A1Cresult',\n",
       "       'metformin', 'repaglinide', 'nateglinide', 'chlorpropamide',\n",
       "       'glimepiride', 'acetohexamide', 'glipizide', 'glyburide', 'tolbutamide',\n",
       "       'pioglitazone', 'rosiglitazone', 'acarbose', 'miglitol', 'troglitazone',\n",
       "       'tolazamide', 'examide', 'citoglipton', 'insulin',\n",
       "       'glyburide-metformin', 'glipizide-metformin',\n",
       "       'glimepiride-pioglitazone', 'metformin-rosiglitazone',\n",
       "       'metformin-pioglitazone', 'change', 'diabetesMed', 'readmitted'],\n",
       "      dtype='object')"
      ]
     },
     "execution_count": 63,
     "metadata": {},
     "output_type": "execute_result"
    }
   ],
   "source": [
    "data.columns"
   ]
  },
  {
   "cell_type": "code",
   "execution_count": 64,
   "id": "0a4827e8",
   "metadata": {},
   "outputs": [
    {
     "data": {
      "text/plain": [
       "(91589, 50)"
      ]
     },
     "execution_count": 64,
     "metadata": {},
     "output_type": "execute_result"
    }
   ],
   "source": [
    "data.shape"
   ]
  },
  {
   "cell_type": "code",
   "execution_count": 65,
   "id": "384a8aa3",
   "metadata": {},
   "outputs": [
    {
     "name": "stdout",
     "output_type": "stream",
     "text": [
      "Total number of duplicate patients rows: 40379\n"
     ]
    }
   ],
   "source": [
    "duplicates = data[data.duplicated(subset='patient_nbr', keep=False)]\n",
    "num_duplicates = duplicates.shape[0]\n",
    "print('Total number of duplicate patients rows:',num_duplicates)"
   ]
  },
  {
   "cell_type": "code",
   "execution_count": 66,
   "id": "95b22a64",
   "metadata": {},
   "outputs": [],
   "source": [
    "data_sorted = data.sort_values(by='time_in_hospital', ascending=False)\n",
    "data = data_sorted.drop_duplicates(subset='patient_nbr', keep='first')\n",
    "data.reset_index(drop=True, inplace=True) \n",
    "# Kept only the first encounter for each 'patient_nbr' with max time_in_hospital"
   ]
  },
  {
   "cell_type": "code",
   "execution_count": 67,
   "id": "1b3a4fd7",
   "metadata": {},
   "outputs": [
    {
     "data": {
      "text/plain": [
       "(65932, 50)"
      ]
     },
     "execution_count": 67,
     "metadata": {},
     "output_type": "execute_result"
    }
   ],
   "source": [
    "data.shape"
   ]
  },
  {
   "cell_type": "code",
   "execution_count": 68,
   "id": "6132352e",
   "metadata": {},
   "outputs": [],
   "source": [
    "features_to_drop = ['payer_code', 'medical_specialty', 'patient_nbr','encounter_id','weight','examide','citoglipton','glimepiride-pioglitazone']\n",
    "data = data.drop(columns=features_to_drop, axis=1)"
   ]
  },
  {
   "cell_type": "code",
   "execution_count": 69,
   "id": "d1d8acb5",
   "metadata": {},
   "outputs": [
    {
     "data": {
      "text/plain": [
       "(1137, 42)"
      ]
     },
     "execution_count": 69,
     "metadata": {},
     "output_type": "execute_result"
    }
   ],
   "source": [
    "grouped = data.groupby(data['diag_1'].str.startswith('V'))\n",
    "v_group = grouped.get_group(True)\n",
    "not_v_group = grouped.get_group(False)\n",
    "v_group.shape\n",
    "#INSTANCES WHERE THE VALUE STARTS WITH V"
   ]
  },
  {
   "cell_type": "code",
   "execution_count": 70,
   "id": "18d0fa8a",
   "metadata": {},
   "outputs": [],
   "source": [
    "columns_to_replace = ['diag_1', 'diag_2', 'diag_3']\n",
    "\n",
    "for column in columns_to_replace:\n",
    "    data[column] = data[column].replace('?', 0)\n",
    "#Replace ? with 0 "
   ]
  },
  {
   "cell_type": "code",
   "execution_count": 71,
   "id": "fc8970fc",
   "metadata": {},
   "outputs": [
    {
     "data": {
      "image/png": "[encoded data removed]",
      "text/plain": [
       "<Figure size 864x576 with 1 Axes>"
      ]
     },
     "metadata": {
      "needs_background": "light"
     },
     "output_type": "display_data"
    }
   ],
   "source": [
    "import seaborn as sns\n",
    "\n",
    "#Readmission vs Age\n",
    "plt.figure(figsize=(12, 8))\n",
    "age_order = ['[0-10)', '[10-20)', '[20-30)', '[30-40)', '[40-50)', '[50-60)', '[60-70)', '[70-80)', '[80-90)', '[90-100)']\n",
    "sns.countplot(x='age', hue='readmitted', data=data, order=age_order)\n",
    "plt.title('Readmission Status by Age Group')\n",
    "plt.xlabel('Age Group')\n",
    "plt.ylabel('Count')\n",
    "plt.show()"
   ]
  },
  {
   "cell_type": "code",
   "execution_count": 72,
   "id": "46801854",
   "metadata": {},
   "outputs": [],
   "source": [
    "#VISUALIZING VARIOUS FEATURES"
   ]
  },
  {
   "cell_type": "code",
   "execution_count": 73,
   "id": "f679be85",
   "metadata": {},
   "outputs": [
    {
     "data": {
      "image/png": "[encoded data removed]",
      "text/plain": [
       "<Figure size 720x576 with 1 Axes>"
      ]
     },
     "metadata": {
      "needs_background": "light"
     },
     "output_type": "display_data"
    }
   ],
   "source": [
    "#Gender\n",
    "\n",
    "\n",
    "plt.figure(figsize=(10, 8))\n",
    "ax = sns.countplot(x='gender', data=data, palette='pastel')\n",
    "\n",
    "\n",
    "for p in ax.patches:\n",
    "    ax.annotate(f'{p.get_height()}', (p.get_x() + p.get_width() / 2., p.get_height()),\n",
    "                ha='center', va='center', xytext=(0, 10), textcoords='offset points')\n",
    "\n",
    "plt.title('Gender Distribution')\n",
    "plt.xlabel('Gender')\n",
    "plt.ylabel('Count')\n",
    "plt.show()\n"
   ]
  },
  {
   "cell_type": "code",
   "execution_count": 74,
   "id": "5f4b9554",
   "metadata": {},
   "outputs": [
    {
     "data": {
      "image/png": "[encoded data removed]",
      "text/plain": [
       "<Figure size 720x576 with 1 Axes>"
      ]
     },
     "metadata": {
      "needs_background": "light"
     },
     "output_type": "display_data"
    }
   ],
   "source": [
    "#Race\n",
    "\n",
    "plt.figure(figsize=(10, 8))\n",
    "ax = sns.countplot(x='race', data=data, palette='pastel')\n",
    "\n",
    "for p in ax.patches:\n",
    "    ax.annotate(f'{p.get_height()}', (p.get_x() + p.get_width() / 2., p.get_height()),\n",
    "                ha='center', va='center', xytext=(0, 10), textcoords='offset points')\n",
    "\n",
    "plt.title('Race Distribution')\n",
    "plt.xlabel('Race')\n",
    "plt.ylabel('Count')\n",
    "plt.show()"
   ]
  },
  {
   "cell_type": "code",
   "execution_count": 75,
   "id": "9add6984",
   "metadata": {},
   "outputs": [
    {
     "data": {
      "text/plain": [
       "414    4596\n",
       "428    3762\n",
       "410    2641\n",
       "786    2504\n",
       "486    2294\n",
       "       ... \n",
       "983       1\n",
       "391       1\n",
       "915       1\n",
       "52        1\n",
       "637       1\n",
       "Name: diag_1, Length: 691, dtype: int64"
      ]
     },
     "execution_count": 75,
     "metadata": {},
     "output_type": "execute_result"
    }
   ],
   "source": [
    "data.diag_1.value_counts()\n"
   ]
  },
  {
   "cell_type": "code",
   "execution_count": 47,
   "id": "96525dc2",
   "metadata": {},
   "outputs": [
    {
     "name": "stdout",
     "output_type": "stream",
     "text": [
      "    diag_1  diag_1_encoded\n",
      "0      161              28\n",
      "1      440             280\n",
      "2    250.8             118\n",
      "3      486             317\n",
      "4      997             670\n",
      "5   250.82             120\n",
      "6      434             275\n",
      "7      294             157\n",
      "8    250.7             117\n",
      "9      996             669\n",
      "10     410             252\n",
      "11     V57             682\n",
      "12     296             159\n",
      "13     414             256\n",
      "14     578             388\n",
      "15     997             670\n",
      "16     296             159\n",
      "17     577             387\n",
      "18     427             268\n",
      "19     486             317\n",
      "20      38             230\n",
      "21     574             384\n",
      "22     414             256\n",
      "23     482             314\n",
      "24     410             252\n",
      "25     428             269\n",
      "26     682             464\n",
      "27     996             669\n",
      "28     780             521\n",
      "29     414             256\n",
      "30     410             252\n",
      "31     682             464\n",
      "32     V57             682\n",
      "33   250.8             118\n",
      "34   250.7             117\n",
      "35     414             256\n",
      "36     486             317\n",
      "37     453             291\n",
      "38     428             269\n",
      "39     296             159\n"
     ]
    }
   ],
   "source": [
    "# Label Encoding\n",
    "\n",
    "label_encoder = LabelEncoder()\n",
    "\n",
    "# Fit and transform the 'diag_1' column\n",
    "data['diag_1_encoded'] = label_encoder.fit_transform(data['diag_1'])\n",
    "print(data[['diag_1', 'diag_1_encoded']].head(40))"
   ]
  },
  {
   "cell_type": "code",
   "execution_count": 76,
   "id": "e664eac8",
   "metadata": {},
   "outputs": [],
   "source": [
    "\n",
    "data['diag_1'] = pd.to_numeric(data['diag_1'],errors='coerce')"
   ]
  },
  {
   "cell_type": "code",
   "execution_count": 83,
   "id": "595ca693",
   "metadata": {},
   "outputs": [
    {
     "name": "stdout",
     "output_type": "stream",
     "text": [
      "       diag_1     diag_1_group  diag_1_numerical\n",
      "0       161.0        Neoplasms                 8\n",
      "1       440.0      Circulatory                 1\n",
      "2       250.8          Unknown                 0\n",
      "3       486.0      Respiratory                 2\n",
      "4       997.0           Injury                 5\n",
      "...       ...              ...               ...\n",
      "65927   435.0      Circulatory                 1\n",
      "65928     8.0        Neoplasms                 8\n",
      "65929   786.0      Respiratory                 2\n",
      "65930   722.0  Musculoskeletal                 6\n",
      "65931   780.0        Neoplasms                 8\n",
      "\n",
      "[65932 rows x 3 columns]\n"
     ]
    }
   ],
   "source": [
    "\n",
    "# Label Mapping \n",
    "group_mapping = {\n",
    "    'Circulatory': list(range(390, 460)) + [785],\n",
    "    'Respiratory': list(range(460, 520)) + [786],\n",
    "    'Digestive': list(range(520, 580)) + [787],\n",
    "    'Diabetes': [f'250.{i:02d}' for i in range(0, 100)],  # Include decimals from 250.00 to 250.99\n",
    "    'Injury': list(range(800, 1000)),\n",
    "    'Musculoskeletal': list(range(710, 740)),\n",
    "    'Genitourinary': list(range(580, 630)) + [788],\n",
    "    'Neoplasms': list(range(140, 240)) + [780, 781, 784] + list(range(790, 800)) + list(range(240, 280)) + list(range(680, 710)) + [782] + list(range(1, 140)) + list(range(290, 320))\n",
    "}\n",
    "\n",
    "data['diag_1_group'] = data['diag_1'].apply(lambda x: next((k for k, v in group_mapping.items() if x in v), 'Unknown'))\n",
    "\n",
    "# Assign numerical values to each category\n",
    "category_numerical_mapping = {\n",
    "    'Circulatory': 1,\n",
    "    'Respiratory': 2,\n",
    "    'Digestive': 3,\n",
    "    'Diabetes': 4,\n",
    "    'Injury': 5,\n",
    "    'Musculoskeletal': 6,\n",
    "    'Genitourinary': 7,\n",
    "    'Neoplasms': 8,\n",
    "    'Unknown': 0  \n",
    "}\n",
    "\n",
    "data['diag_1_numerical'] = data['diag_1_group'].map(category_numerical_mapping)\n",
    "\n",
    "print(data[['diag_1', 'diag_1_group', 'diag_1_numerical']])"
   ]
  },
  {
   "cell_type": "code",
   "execution_count": 49,
   "id": "4f5dd3f2",
   "metadata": {},
   "outputs": [
    {
     "name": "stdout",
     "output_type": "stream",
     "text": [
      "object\n"
     ]
    }
   ],
   "source": [
    "#Readmission correlation with other 41 features\n",
    "\n",
    "print(data['readmitted'].dtypes)"
   ]
  },
  {
   "cell_type": "code",
   "execution_count": 10,
   "id": "4c531280",
   "metadata": {},
   "outputs": [],
   "source": [
    "data['diag_1'].dtype\n",
    "data['diag_1'] = pd.to_numeric(data['diag_1'],errors='coerce')"
   ]
  },
  {
   "cell_type": "code",
   "execution_count": 12,
   "id": "49d9e8b6",
   "metadata": {},
   "outputs": [
    {
     "data": {
      "text/plain": [
       "0        276.00\n",
       "1        648.00\n",
       "2          8.00\n",
       "3        197.00\n",
       "4        414.00\n",
       "          ...  \n",
       "91584    250.13\n",
       "91585    560.00\n",
       "91586     38.00\n",
       "91587    996.00\n",
       "91588    530.00\n",
       "Name: diag_1, Length: 91589, dtype: float64"
      ]
     },
     "execution_count": 12,
     "metadata": {},
     "output_type": "execute_result"
    }
   ],
   "source": [
    "\n",
    "mean_diag_1 = data['diag_1'].mean()\n",
    "data['diag_1'] = data['diag_1'].replace(to_replace=0, value=mean_diag_1)\n",
    "\n",
    "data['diag_1']"
   ]
  },
  {
   "cell_type": "code",
   "execution_count": 13,
   "id": "ad829a7c",
   "metadata": {},
   "outputs": [],
   "source": [
    "\n",
    "data['diag_2'] = pd.to_numeric(data['diag_2'],errors='coerce')\n",
    "data['diag_3'] = pd.to_numeric(data['diag_3'],errors='coerce')"
   ]
  },
  {
   "cell_type": "code",
   "execution_count": 14,
   "id": "9763c07c",
   "metadata": {},
   "outputs": [],
   "source": [
    "mean_diag_2 = data['diag_2'].mean()\n",
    "data['diag_2'] = data['diag_2'].replace(to_replace=0, value=mean_diag_2) \n",
    "mean_diag_3 = data['diag_3'].mean()\n",
    "data['diag_3'] = data['diag_3'].replace(to_replace=0, value=mean_diag_3)"
   ]
  },
  {
   "cell_type": "code",
   "execution_count": 18,
   "id": "7d872bba",
   "metadata": {},
   "outputs": [
    {
     "name": "stdout",
     "output_type": "stream",
     "text": [
      "                          encounter_id  patient_nbr  admission_type_id  \\\n",
      "encounter_id                  1.000000     0.513147          -0.159765   \n",
      "patient_nbr                   0.513147     1.000000          -0.013280   \n",
      "admission_type_id            -0.159765    -0.013280           1.000000   \n",
      "discharge_disposition_id     -0.133158    -0.137993           0.082166   \n",
      "admission_source_id          -0.112400    -0.031882           0.106947   \n",
      "time_in_hospital             -0.060710    -0.022998          -0.012517   \n",
      "num_lab_procedures           -0.026486     0.015457          -0.142581   \n",
      "num_procedures               -0.015324    -0.018171           0.127318   \n",
      "num_medications               0.076013     0.019753           0.079461   \n",
      "number_outpatient             0.104015     0.103043           0.026553   \n",
      "number_emergency              0.082807     0.062133          -0.018572   \n",
      "number_inpatient              0.031032     0.013405          -0.039997   \n",
      "diag_1                        0.005756     0.013419           0.025836   \n",
      "diag_2                        0.068955     0.038008          -0.004503   \n",
      "diag_3                        0.049733     0.030870          -0.004007   \n",
      "number_diagnoses              0.265227     0.227695          -0.116282   \n",
      "\n",
      "                          discharge_disposition_id  admission_source_id  \\\n",
      "encounter_id                             -0.133158            -0.112400   \n",
      "patient_nbr                              -0.137993            -0.031882   \n",
      "admission_type_id                         0.082166             0.106947   \n",
      "discharge_disposition_id                  1.000000             0.016599   \n",
      "admission_source_id                       0.016599             1.000000   \n",
      "time_in_hospital                          0.162483            -0.005913   \n",
      "num_lab_procedures                        0.023400             0.049995   \n",
      "num_procedures                            0.017106            -0.134453   \n",
      "num_medications                           0.111141            -0.055470   \n",
      "number_outpatient                        -0.010117             0.024325   \n",
      "number_emergency                         -0.024978             0.058252   \n",
      "number_inpatient                          0.019277             0.036341   \n",
      "diag_1                                    0.022896            -0.005487   \n",
      "diag_2                                    0.023347            -0.020220   \n",
      "diag_3                                    0.027516            -0.009079   \n",
      "number_diagnoses                          0.046303             0.072416   \n",
      "\n",
      "                          time_in_hospital  num_lab_procedures  \\\n",
      "encounter_id                     -0.060710           -0.026486   \n",
      "patient_nbr                      -0.022998            0.015457   \n",
      "admission_type_id                -0.012517           -0.142581   \n",
      "discharge_disposition_id          0.162483            0.023400   \n",
      "admission_source_id              -0.005913            0.049995   \n",
      "time_in_hospital                  1.000000            0.317332   \n",
      "num_lab_procedures                0.317332            1.000000   \n",
      "num_procedures                    0.192186            0.057495   \n",
      "num_medications                   0.465646            0.266928   \n",
      "number_outpatient                -0.009314           -0.009683   \n",
      "number_emergency                 -0.011147           -0.004020   \n",
      "number_inpatient                  0.074542            0.040201   \n",
      "diag_1                           -0.087257           -0.081787   \n",
      "diag_2                            0.077051            0.013819   \n",
      "diag_3                            0.084752            0.031300   \n",
      "number_diagnoses                  0.219244            0.151496   \n",
      "\n",
      "                          num_procedures  num_medications  number_outpatient  \\\n",
      "encounter_id                   -0.015324         0.076013           0.104015   \n",
      "patient_nbr                    -0.018171         0.019753           0.103043   \n",
      "admission_type_id               0.127318         0.079461           0.026553   \n",
      "discharge_disposition_id        0.017106         0.111141          -0.010117   \n",
      "admission_source_id            -0.134453        -0.055470           0.024325   \n",
      "time_in_hospital                0.192186         0.465646          -0.009314   \n",
      "num_lab_procedures              0.057495         0.266928          -0.009683   \n",
      "num_procedures                  1.000000         0.386118          -0.024622   \n",
      "num_medications                 0.386118         1.000000           0.044342   \n",
      "number_outpatient              -0.024622         0.044342           1.000000   \n",
      "number_emergency               -0.039276         0.010873           0.090155   \n",
      "number_inpatient               -0.066312         0.064631           0.106350   \n",
      "diag_1                         -0.010040         0.004614          -0.007219   \n",
      "diag_2                          0.058501         0.080275           0.026339   \n",
      "diag_3                          0.045937         0.070174           0.027583   \n",
      "number_diagnoses                0.074588         0.261657           0.094176   \n",
      "\n",
      "                          number_emergency  number_inpatient    diag_1  \\\n",
      "encounter_id                      0.082807          0.031032  0.005756   \n",
      "patient_nbr                       0.062133          0.013405  0.013419   \n",
      "admission_type_id                -0.018572         -0.039997  0.025836   \n",
      "discharge_disposition_id         -0.024978          0.019277  0.022896   \n",
      "admission_source_id               0.058252          0.036341 -0.005487   \n",
      "time_in_hospital                 -0.011147          0.074542 -0.087257   \n",
      "num_lab_procedures               -0.004020          0.040201 -0.081787   \n",
      "num_procedures                   -0.039276         -0.066312 -0.010040   \n",
      "num_medications                   0.010873          0.064631  0.004614   \n",
      "number_outpatient                 0.090155          0.106350 -0.007219   \n",
      "number_emergency                  1.000000          0.263818 -0.010949   \n",
      "number_inpatient                  0.263818          1.000000 -0.026952   \n",
      "diag_1                           -0.010949         -0.026952  1.000000   \n",
      "diag_2                           -0.003104          0.007048 -0.002180   \n",
      "diag_3                            0.001543          0.016918 -0.018046   \n",
      "number_diagnoses                  0.055313          0.106174  0.007980   \n",
      "\n",
      "                            diag_2    diag_3  number_diagnoses  \n",
      "encounter_id              0.068955  0.049733          0.265227  \n",
      "patient_nbr               0.038008  0.030870          0.227695  \n",
      "admission_type_id        -0.004503 -0.004007         -0.116282  \n",
      "discharge_disposition_id  0.023347  0.027516          0.046303  \n",
      "admission_source_id      -0.020220 -0.009079          0.072416  \n",
      "time_in_hospital          0.077051  0.084752          0.219244  \n",
      "num_lab_procedures        0.013819  0.031300          0.151496  \n",
      "num_procedures            0.058501  0.045937          0.074588  \n",
      "num_medications           0.080275  0.070174          0.261657  \n",
      "number_outpatient         0.026339  0.027583          0.094176  \n",
      "number_emergency         -0.003104  0.001543          0.055313  \n",
      "number_inpatient          0.007048  0.016918          0.106174  \n",
      "diag_1                   -0.002180 -0.018046          0.007980  \n",
      "diag_2                    1.000000  0.066598          0.154044  \n",
      "diag_3                    0.066598  1.000000          0.168074  \n",
      "number_diagnoses          0.154044  0.168074          1.000000  \n"
     ]
    }
   ],
   "source": [
    "print(corr)"
   ]
  },
  {
   "cell_type": "code",
   "execution_count": 19,
   "id": "2dc45ae5",
   "metadata": {},
   "outputs": [
    {
     "data": {
      "text/plain": [
       "Index(['encounter_id', 'patient_nbr', 'race', 'gender', 'age',\n",
       "       'admission_type_id', 'discharge_disposition_id', 'admission_source_id',\n",
       "       'time_in_hospital', 'num_lab_procedures', 'num_procedures',\n",
       "       'num_medications', 'number_outpatient', 'number_emergency',\n",
       "       'number_inpatient', 'diag_1', 'diag_2', 'diag_3', 'number_diagnoses',\n",
       "       'max_glu_serum', 'A1Cresult', 'metformin', 'repaglinide', 'nateglinide',\n",
       "       'chlorpropamide', 'glimepiride', 'acetohexamide', 'glipizide',\n",
       "       'glyburide', 'tolbutamide', 'pioglitazone', 'rosiglitazone', 'acarbose',\n",
       "       'miglitol', 'troglitazone', 'tolazamide', 'examide', 'citoglipton',\n",
       "       'insulin', 'glyburide-metformin', 'glipizide-metformin',\n",
       "       'glimepiride-pioglitazone', 'metformin-rosiglitazone',\n",
       "       'metformin-pioglitazone', 'change', 'diabetesMed', 'readmitted'],\n",
       "      dtype='object')"
      ]
     },
     "execution_count": 19,
     "metadata": {},
     "output_type": "execute_result"
    }
   ],
   "source": [
    "data.columns\n"
   ]
  },
  {
   "cell_type": "code",
   "execution_count": 22,
   "id": "6c10344a",
   "metadata": {},
   "outputs": [
    {
     "data": {
      "text/html": [
       "<div>\n",
       "<style scoped>\n",
       "    .dataframe tbody tr th:only-of-type {\n",
       "        vertical-align: middle;\n",
       "    }\n",
       "\n",
       "    .dataframe tbody tr th {\n",
       "        vertical-align: top;\n",
       "    }\n",
       "\n",
       "    .dataframe thead th {\n",
       "        text-align: right;\n",
       "    }\n",
       "</style>\n",
       "<table border=\"1\" class=\"dataframe\">\n",
       "  <thead>\n",
       "    <tr style=\"text-align: right;\">\n",
       "      <th></th>\n",
       "      <th>race</th>\n",
       "      <th>gender</th>\n",
       "      <th>age</th>\n",
       "      <th>admission_type_id</th>\n",
       "      <th>discharge_disposition_id</th>\n",
       "      <th>admission_source_id</th>\n",
       "      <th>time_in_hospital</th>\n",
       "      <th>num_lab_procedures</th>\n",
       "      <th>num_procedures</th>\n",
       "      <th>num_medications</th>\n",
       "      <th>...</th>\n",
       "      <th>citoglipton</th>\n",
       "      <th>insulin</th>\n",
       "      <th>glyburide-metformin</th>\n",
       "      <th>glipizide-metformin</th>\n",
       "      <th>glimepiride-pioglitazone</th>\n",
       "      <th>metformin-rosiglitazone</th>\n",
       "      <th>metformin-pioglitazone</th>\n",
       "      <th>change</th>\n",
       "      <th>diabetesMed</th>\n",
       "      <th>readmitted</th>\n",
       "    </tr>\n",
       "  </thead>\n",
       "  <tbody>\n",
       "    <tr>\n",
       "      <th>0</th>\n",
       "      <td>Caucasian</td>\n",
       "      <td>Female</td>\n",
       "      <td>[10-20)</td>\n",
       "      <td>1</td>\n",
       "      <td>1</td>\n",
       "      <td>7</td>\n",
       "      <td>3</td>\n",
       "      <td>59</td>\n",
       "      <td>0</td>\n",
       "      <td>18</td>\n",
       "      <td>...</td>\n",
       "      <td>No</td>\n",
       "      <td>Up</td>\n",
       "      <td>No</td>\n",
       "      <td>No</td>\n",
       "      <td>No</td>\n",
       "      <td>No</td>\n",
       "      <td>No</td>\n",
       "      <td>Ch</td>\n",
       "      <td>Yes</td>\n",
       "      <td>&gt;30</td>\n",
       "    </tr>\n",
       "    <tr>\n",
       "      <th>1</th>\n",
       "      <td>AfricanAmerican</td>\n",
       "      <td>Female</td>\n",
       "      <td>[20-30)</td>\n",
       "      <td>1</td>\n",
       "      <td>1</td>\n",
       "      <td>7</td>\n",
       "      <td>2</td>\n",
       "      <td>11</td>\n",
       "      <td>5</td>\n",
       "      <td>13</td>\n",
       "      <td>...</td>\n",
       "      <td>No</td>\n",
       "      <td>No</td>\n",
       "      <td>No</td>\n",
       "      <td>No</td>\n",
       "      <td>No</td>\n",
       "      <td>No</td>\n",
       "      <td>No</td>\n",
       "      <td>No</td>\n",
       "      <td>Yes</td>\n",
       "      <td>NO</td>\n",
       "    </tr>\n",
       "    <tr>\n",
       "      <th>2</th>\n",
       "      <td>Caucasian</td>\n",
       "      <td>Male</td>\n",
       "      <td>[30-40)</td>\n",
       "      <td>1</td>\n",
       "      <td>1</td>\n",
       "      <td>7</td>\n",
       "      <td>2</td>\n",
       "      <td>44</td>\n",
       "      <td>1</td>\n",
       "      <td>16</td>\n",
       "      <td>...</td>\n",
       "      <td>No</td>\n",
       "      <td>Up</td>\n",
       "      <td>No</td>\n",
       "      <td>No</td>\n",
       "      <td>No</td>\n",
       "      <td>No</td>\n",
       "      <td>No</td>\n",
       "      <td>Ch</td>\n",
       "      <td>Yes</td>\n",
       "      <td>NO</td>\n",
       "    </tr>\n",
       "    <tr>\n",
       "      <th>3</th>\n",
       "      <td>Caucasian</td>\n",
       "      <td>Male</td>\n",
       "      <td>[40-50)</td>\n",
       "      <td>1</td>\n",
       "      <td>1</td>\n",
       "      <td>7</td>\n",
       "      <td>1</td>\n",
       "      <td>51</td>\n",
       "      <td>0</td>\n",
       "      <td>8</td>\n",
       "      <td>...</td>\n",
       "      <td>No</td>\n",
       "      <td>Steady</td>\n",
       "      <td>No</td>\n",
       "      <td>No</td>\n",
       "      <td>No</td>\n",
       "      <td>No</td>\n",
       "      <td>No</td>\n",
       "      <td>Ch</td>\n",
       "      <td>Yes</td>\n",
       "      <td>NO</td>\n",
       "    </tr>\n",
       "    <tr>\n",
       "      <th>4</th>\n",
       "      <td>Caucasian</td>\n",
       "      <td>Male</td>\n",
       "      <td>[50-60)</td>\n",
       "      <td>2</td>\n",
       "      <td>1</td>\n",
       "      <td>2</td>\n",
       "      <td>3</td>\n",
       "      <td>31</td>\n",
       "      <td>6</td>\n",
       "      <td>16</td>\n",
       "      <td>...</td>\n",
       "      <td>No</td>\n",
       "      <td>Steady</td>\n",
       "      <td>No</td>\n",
       "      <td>No</td>\n",
       "      <td>No</td>\n",
       "      <td>No</td>\n",
       "      <td>No</td>\n",
       "      <td>No</td>\n",
       "      <td>Yes</td>\n",
       "      <td>&gt;30</td>\n",
       "    </tr>\n",
       "  </tbody>\n",
       "</table>\n",
       "<p>5 rows × 45 columns</p>\n",
       "</div>"
      ],
      "text/plain": [
       "              race  gender      age  admission_type_id  \\\n",
       "0        Caucasian  Female  [10-20)                  1   \n",
       "1  AfricanAmerican  Female  [20-30)                  1   \n",
       "2        Caucasian    Male  [30-40)                  1   \n",
       "3        Caucasian    Male  [40-50)                  1   \n",
       "4        Caucasian    Male  [50-60)                  2   \n",
       "\n",
       "   discharge_disposition_id  admission_source_id  time_in_hospital  \\\n",
       "0                         1                    7                 3   \n",
       "1                         1                    7                 2   \n",
       "2                         1                    7                 2   \n",
       "3                         1                    7                 1   \n",
       "4                         1                    2                 3   \n",
       "\n",
       "   num_lab_procedures  num_procedures  num_medications  ...  citoglipton  \\\n",
       "0                  59               0               18  ...           No   \n",
       "1                  11               5               13  ...           No   \n",
       "2                  44               1               16  ...           No   \n",
       "3                  51               0                8  ...           No   \n",
       "4                  31               6               16  ...           No   \n",
       "\n",
       "   insulin  glyburide-metformin  glipizide-metformin  \\\n",
       "0       Up                   No                   No   \n",
       "1       No                   No                   No   \n",
       "2       Up                   No                   No   \n",
       "3   Steady                   No                   No   \n",
       "4   Steady                   No                   No   \n",
       "\n",
       "   glimepiride-pioglitazone  metformin-rosiglitazone  metformin-pioglitazone  \\\n",
       "0                        No                       No                      No   \n",
       "1                        No                       No                      No   \n",
       "2                        No                       No                      No   \n",
       "3                        No                       No                      No   \n",
       "4                        No                       No                      No   \n",
       "\n",
       "  change diabetesMed readmitted  \n",
       "0     Ch         Yes        >30  \n",
       "1     No         Yes         NO  \n",
       "2     Ch         Yes         NO  \n",
       "3     Ch         Yes         NO  \n",
       "4     No         Yes        >30  \n",
       "\n",
       "[5 rows x 45 columns]"
      ]
     },
     "execution_count": 22,
     "metadata": {},
     "output_type": "execute_result"
    }
   ],
   "source": [
    "data.head()"
   ]
  },
  {
   "cell_type": "code",
   "execution_count": null,
   "id": "63f016c6",
   "metadata": {},
   "outputs": [],
   "source": []
  }
 ],
 "metadata": {
  "kernelspec": {
   "display_name": "Python 3 (ipykernel)",
   "language": "python",
   "name": "python3"
  },
  "language_info": {
   "codemirror_mode": {
    "name": "ipython",
    "version": 3
   },
   "file_extension": ".py",
   "mimetype": "text/x-python",
   "name": "python",
   "nbconvert_exporter": "python",
   "pygments_lexer": "ipython3",
   "version": "3.9.12"
  }
 },
 "nbformat": 4,
 "nbformat_minor": 5
}
