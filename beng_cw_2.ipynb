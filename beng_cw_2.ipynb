{
 "cells": [
  {
   "cell_type": "code",
   "execution_count": 1,
   "id": "a8fc320e",
   "metadata": {},
   "outputs": [],
   "source": [
    "import numpy as np\n",
    "import matplotlib.pyplot as plt\n",
    "import pandas as pd \n",
    "import seaborn as sns\n",
    "\n",
    "from os import chdir\n",
    "from sklearn.model_selection import train_test_split\n",
    "from sklearn.preprocessing import StandardScaler\n",
    "from sklearn.impute import SimpleImputer\n",
    "from sklearn.discriminant_analysis import LinearDiscriminantAnalysis as LDA\n",
    "from sklearn.discriminant_analysis import QuadraticDiscriminantAnalysis as QDA\n",
    "from sklearn.linear_model import LogisticRegression\n",
    "from sklearn.naive_bayes import GaussianNB\n",
    "from sklearn.preprocessing import LabelEncoder\n",
    "from sklearn.metrics import accuracy_score, roc_curve, precision_recall_curve"
   ]
  },
  {
   "cell_type": "code",
   "execution_count": 2,
   "id": "362d9ee3",
   "metadata": {},
   "outputs": [],
   "source": [
    "import os \n",
    "subdirectory_path = r\"C:\\Users\\aadis\\OneDrive\\Desktop\\beng\\Dataset\\Dataset\"\n",
    "os.chdir(subdirectory_path)\n",
    "\n",
    "# read .csv file with pandas.read_csv\n",
    "data = pd.read_csv('diabetic_data_training.csv',low_memory=False)\n"
   ]
  },
  {
   "cell_type": "code",
   "execution_count": 5,
   "id": "7915cf67",
   "metadata": {},
   "outputs": [
    {
     "data": {
      "text/html": [
       "<div>\n",
       "<style scoped>\n",
       "    .dataframe tbody tr th:only-of-type {\n",
       "        vertical-align: middle;\n",
       "    }\n",
       "\n",
       "    .dataframe tbody tr th {\n",
       "        vertical-align: top;\n",
       "    }\n",
       "\n",
       "    .dataframe thead th {\n",
       "        text-align: right;\n",
       "    }\n",
       "</style>\n",
       "<table border=\"1\" class=\"dataframe\">\n",
       "  <thead>\n",
       "    <tr style=\"text-align: right;\">\n",
       "      <th></th>\n",
       "      <th>encounter_id</th>\n",
       "      <th>patient_nbr</th>\n",
       "      <th>race</th>\n",
       "      <th>gender</th>\n",
       "      <th>age</th>\n",
       "      <th>weight</th>\n",
       "      <th>admission_type_id</th>\n",
       "      <th>discharge_disposition_id</th>\n",
       "      <th>admission_source_id</th>\n",
       "      <th>time_in_hospital</th>\n",
       "      <th>...</th>\n",
       "      <th>citoglipton</th>\n",
       "      <th>insulin</th>\n",
       "      <th>glyburide-metformin</th>\n",
       "      <th>glipizide-metformin</th>\n",
       "      <th>glimepiride-pioglitazone</th>\n",
       "      <th>metformin-rosiglitazone</th>\n",
       "      <th>metformin-pioglitazone</th>\n",
       "      <th>change</th>\n",
       "      <th>diabetesMed</th>\n",
       "      <th>readmitted</th>\n",
       "    </tr>\n",
       "  </thead>\n",
       "  <tbody>\n",
       "    <tr>\n",
       "      <th>0</th>\n",
       "      <td>149190</td>\n",
       "      <td>55629189</td>\n",
       "      <td>Caucasian</td>\n",
       "      <td>Female</td>\n",
       "      <td>[10-20)</td>\n",
       "      <td>?</td>\n",
       "      <td>1</td>\n",
       "      <td>1</td>\n",
       "      <td>7</td>\n",
       "      <td>3</td>\n",
       "      <td>...</td>\n",
       "      <td>No</td>\n",
       "      <td>Up</td>\n",
       "      <td>No</td>\n",
       "      <td>No</td>\n",
       "      <td>No</td>\n",
       "      <td>No</td>\n",
       "      <td>No</td>\n",
       "      <td>Ch</td>\n",
       "      <td>Yes</td>\n",
       "      <td>&gt;30</td>\n",
       "    </tr>\n",
       "    <tr>\n",
       "      <th>1</th>\n",
       "      <td>64410</td>\n",
       "      <td>86047875</td>\n",
       "      <td>AfricanAmerican</td>\n",
       "      <td>Female</td>\n",
       "      <td>[20-30)</td>\n",
       "      <td>?</td>\n",
       "      <td>1</td>\n",
       "      <td>1</td>\n",
       "      <td>7</td>\n",
       "      <td>2</td>\n",
       "      <td>...</td>\n",
       "      <td>No</td>\n",
       "      <td>No</td>\n",
       "      <td>No</td>\n",
       "      <td>No</td>\n",
       "      <td>No</td>\n",
       "      <td>No</td>\n",
       "      <td>No</td>\n",
       "      <td>No</td>\n",
       "      <td>Yes</td>\n",
       "      <td>NO</td>\n",
       "    </tr>\n",
       "    <tr>\n",
       "      <th>2</th>\n",
       "      <td>500364</td>\n",
       "      <td>82442376</td>\n",
       "      <td>Caucasian</td>\n",
       "      <td>Male</td>\n",
       "      <td>[30-40)</td>\n",
       "      <td>?</td>\n",
       "      <td>1</td>\n",
       "      <td>1</td>\n",
       "      <td>7</td>\n",
       "      <td>2</td>\n",
       "      <td>...</td>\n",
       "      <td>No</td>\n",
       "      <td>Up</td>\n",
       "      <td>No</td>\n",
       "      <td>No</td>\n",
       "      <td>No</td>\n",
       "      <td>No</td>\n",
       "      <td>No</td>\n",
       "      <td>Ch</td>\n",
       "      <td>Yes</td>\n",
       "      <td>NO</td>\n",
       "    </tr>\n",
       "    <tr>\n",
       "      <th>3</th>\n",
       "      <td>16680</td>\n",
       "      <td>42519267</td>\n",
       "      <td>Caucasian</td>\n",
       "      <td>Male</td>\n",
       "      <td>[40-50)</td>\n",
       "      <td>?</td>\n",
       "      <td>1</td>\n",
       "      <td>1</td>\n",
       "      <td>7</td>\n",
       "      <td>1</td>\n",
       "      <td>...</td>\n",
       "      <td>No</td>\n",
       "      <td>Steady</td>\n",
       "      <td>No</td>\n",
       "      <td>No</td>\n",
       "      <td>No</td>\n",
       "      <td>No</td>\n",
       "      <td>No</td>\n",
       "      <td>Ch</td>\n",
       "      <td>Yes</td>\n",
       "      <td>NO</td>\n",
       "    </tr>\n",
       "    <tr>\n",
       "      <th>4</th>\n",
       "      <td>35754</td>\n",
       "      <td>82637451</td>\n",
       "      <td>Caucasian</td>\n",
       "      <td>Male</td>\n",
       "      <td>[50-60)</td>\n",
       "      <td>?</td>\n",
       "      <td>2</td>\n",
       "      <td>1</td>\n",
       "      <td>2</td>\n",
       "      <td>3</td>\n",
       "      <td>...</td>\n",
       "      <td>No</td>\n",
       "      <td>Steady</td>\n",
       "      <td>No</td>\n",
       "      <td>No</td>\n",
       "      <td>No</td>\n",
       "      <td>No</td>\n",
       "      <td>No</td>\n",
       "      <td>No</td>\n",
       "      <td>Yes</td>\n",
       "      <td>&gt;30</td>\n",
       "    </tr>\n",
       "  </tbody>\n",
       "</table>\n",
       "<p>5 rows × 50 columns</p>\n",
       "</div>"
      ],
      "text/plain": [
       "   encounter_id  patient_nbr             race  gender      age weight  \\\n",
       "0        149190     55629189        Caucasian  Female  [10-20)      ?   \n",
       "1         64410     86047875  AfricanAmerican  Female  [20-30)      ?   \n",
       "2        500364     82442376        Caucasian    Male  [30-40)      ?   \n",
       "3         16680     42519267        Caucasian    Male  [40-50)      ?   \n",
       "4         35754     82637451        Caucasian    Male  [50-60)      ?   \n",
       "\n",
       "   admission_type_id  discharge_disposition_id  admission_source_id  \\\n",
       "0                  1                         1                    7   \n",
       "1                  1                         1                    7   \n",
       "2                  1                         1                    7   \n",
       "3                  1                         1                    7   \n",
       "4                  2                         1                    2   \n",
       "\n",
       "   time_in_hospital  ... citoglipton insulin  glyburide-metformin  \\\n",
       "0                 3  ...          No      Up                   No   \n",
       "1                 2  ...          No      No                   No   \n",
       "2                 2  ...          No      Up                   No   \n",
       "3                 1  ...          No  Steady                   No   \n",
       "4                 3  ...          No  Steady                   No   \n",
       "\n",
       "   glipizide-metformin  glimepiride-pioglitazone  metformin-rosiglitazone  \\\n",
       "0                   No                        No                       No   \n",
       "1                   No                        No                       No   \n",
       "2                   No                        No                       No   \n",
       "3                   No                        No                       No   \n",
       "4                   No                        No                       No   \n",
       "\n",
       "   metformin-pioglitazone  change diabetesMed readmitted  \n",
       "0                      No      Ch         Yes        >30  \n",
       "1                      No      No         Yes         NO  \n",
       "2                      No      Ch         Yes         NO  \n",
       "3                      No      Ch         Yes         NO  \n",
       "4                      No      No         Yes        >30  \n",
       "\n",
       "[5 rows x 50 columns]"
      ]
     },
     "execution_count": 5,
     "metadata": {},
     "output_type": "execute_result"
    }
   ],
   "source": [
    "data.head()"
   ]
  },
  {
   "cell_type": "code",
   "execution_count": 6,
   "id": "759b019b",
   "metadata": {},
   "outputs": [
    {
     "data": {
      "text/plain": [
       "Index(['encounter_id', 'patient_nbr', 'race', 'gender', 'age', 'weight',\n",
       "       'admission_type_id', 'discharge_disposition_id', 'admission_source_id',\n",
       "       'time_in_hospital', 'payer_code', 'medical_specialty',\n",
       "       'num_lab_procedures', 'num_procedures', 'num_medications',\n",
       "       'number_outpatient', 'number_emergency', 'number_inpatient', 'diag_1',\n",
       "       'diag_2', 'diag_3', 'number_diagnoses', 'max_glu_serum', 'A1Cresult',\n",
       "       'metformin', 'repaglinide', 'nateglinide', 'chlorpropamide',\n",
       "       'glimepiride', 'acetohexamide', 'glipizide', 'glyburide', 'tolbutamide',\n",
       "       'pioglitazone', 'rosiglitazone', 'acarbose', 'miglitol', 'troglitazone',\n",
       "       'tolazamide', 'examide', 'citoglipton', 'insulin',\n",
       "       'glyburide-metformin', 'glipizide-metformin',\n",
       "       'glimepiride-pioglitazone', 'metformin-rosiglitazone',\n",
       "       'metformin-pioglitazone', 'change', 'diabetesMed', 'readmitted'],\n",
       "      dtype='object')"
      ]
     },
     "execution_count": 6,
     "metadata": {},
     "output_type": "execute_result"
    }
   ],
   "source": [
    "data.columns"
   ]
  },
  {
   "cell_type": "code",
   "execution_count": 7,
   "id": "0a4827e8",
   "metadata": {},
   "outputs": [
    {
     "data": {
      "text/plain": [
       "(91589, 50)"
      ]
     },
     "execution_count": 7,
     "metadata": {},
     "output_type": "execute_result"
    }
   ],
   "source": [
    "data.shape"
   ]
  },
  {
   "cell_type": "code",
   "execution_count": 3,
   "id": "384a8aa3",
   "metadata": {},
   "outputs": [
    {
     "name": "stdout",
     "output_type": "stream",
     "text": [
      "Total number of duplicate patients rows: 40379\n"
     ]
    }
   ],
   "source": [
    "duplicates = data[data.duplicated(subset='patient_nbr', keep=False)]\n",
    "num_duplicates = duplicates.shape[0]\n",
    "print('Total number of duplicate patients rows:',num_duplicates)"
   ]
  },
  {
   "cell_type": "code",
   "execution_count": null,
   "id": "86c0e903",
   "metadata": {},
   "outputs": [],
   "source": [
    "# Note: Duplicate instances  \n",
    "\n",
    "https://yungchou.github.io/site/ \n",
    "    "
   ]
  },
  {
   "cell_type": "code",
   "execution_count": 4,
   "id": "95b22a64",
   "metadata": {},
   "outputs": [],
   "source": [
    "\n",
    "data_sorted = data.sort_values(by='time_in_hospital', ascending=False)\n",
    "data = data_sorted.drop_duplicates(subset='patient_nbr', keep='first')\n",
    "data.reset_index(drop=True, inplace=True) \n",
    "# Kept only the first encounter for each 'patient_nbr' with max time_in_hospital"
   ]
  },
  {
   "cell_type": "code",
   "execution_count": 5,
   "id": "1b3a4fd7",
   "metadata": {},
   "outputs": [
    {
     "data": {
      "text/plain": [
       "(65932, 50)"
      ]
     },
     "execution_count": 5,
     "metadata": {},
     "output_type": "execute_result"
    }
   ],
   "source": [
    "data.shape"
   ]
  },
  {
   "cell_type": "code",
   "execution_count": null,
   "id": "794b08a0",
   "metadata": {},
   "outputs": [],
   "source": [
    "# Note: Check out features that do not relate to diabetes"
   ]
  },
  {
   "cell_type": "code",
   "execution_count": 6,
   "id": "6132352e",
   "metadata": {},
   "outputs": [],
   "source": [
    "features_to_drop = ['payer_code', 'medical_specialty', 'patient_nbr','encounter_id','weight','examide','citoglipton','glimepiride-pioglitazone']\n",
    "data = data.drop(columns=features_to_drop, axis=1)"
   ]
  },
  {
   "cell_type": "code",
   "execution_count": 87,
   "id": "e0163d5a",
   "metadata": {},
   "outputs": [
    {
     "name": "stdout",
     "output_type": "stream",
     "text": [
      "0      161\n",
      "1      440\n",
      "2    250.8\n",
      "3      486\n",
      "4      997\n",
      "Name: diag_1, dtype: object 0    496\n",
      "1    682\n",
      "2    518\n",
      "3    707\n",
      "4    599\n",
      "Name: diag_2, dtype: object 0      512\n",
      "1      707\n",
      "2      707\n",
      "3    250.8\n",
      "4      576\n",
      "Name: diag_3, dtype: object\n"
     ]
    }
   ],
   "source": [
    "print(data['diag_1'].head(),data['diag_2'].head(),data['diag_3'].head())"
   ]
  },
  {
   "cell_type": "code",
   "execution_count": 7,
   "id": "18d0fa8a",
   "metadata": {},
   "outputs": [],
   "source": [
    "columns_to_replace = ['diag_1', 'diag_2', 'diag_3']\n",
    "\n",
    "for column in columns_to_replace:\n",
    "    data[column] = data[column].replace('?', 0)\n",
    "#Replace ? with 0 "
   ]
  },
  {
   "cell_type": "code",
   "execution_count": 13,
   "id": "fc8970fc",
   "metadata": {},
   "outputs": [
    {
     "data": {
      "image/png": "[encoded data removed]",
      "text/plain": [
       "<Figure size 864x576 with 1 Axes>"
      ]
     },
     "metadata": {
      "needs_background": "light"
     },
     "output_type": "display_data"
    }
   ],
   "source": [
    "\n",
    "\n",
    "#Readmission vs Age\n",
    "plt.figure(figsize=(12, 8))\n",
    "age_order = ['[0-10)', '[10-20)', '[20-30)', '[30-40)', '[40-50)', '[50-60)', '[60-70)', '[70-80)', '[80-90)', '[90-100)']\n",
    "sns.countplot(x='age', hue='readmitted', data=data, order=age_order)\n",
    "plt.title('Readmission Status by Age Group')\n",
    "plt.xlabel('Age Group')\n",
    "plt.ylabel('Count')\n",
    "plt.show()"
   ]
  },
  {
   "cell_type": "code",
   "execution_count": 38,
   "id": "0d1fae09",
   "metadata": {},
   "outputs": [],
   "source": [
    "#VISUALIZING VARIOUS FEATURES"
   ]
  },
  {
   "cell_type": "code",
   "execution_count": 39,
   "id": "94fb15b4",
   "metadata": {},
   "outputs": [
    {
     "data": {
      "image/png": "[encoded data removed]",
      "text/plain": [
       "<Figure size 720x576 with 1 Axes>"
      ]
     },
     "metadata": {
      "needs_background": "light"
     },
     "output_type": "display_data"
    }
   ],
   "source": [
    "#Gender\n",
    "\n",
    "\n",
    "plt.figure(figsize=(10, 8))\n",
    "ax = sns.countplot(x='gender', data=data, palette='pastel')\n",
    "\n",
    "\n",
    "for p in ax.patches:\n",
    "    ax.annotate(f'{p.get_height()}', (p.get_x() + p.get_width() / 2., p.get_height()),\n",
    "                ha='center', va='center', xytext=(0, 10), textcoords='offset points')\n",
    "\n",
    "plt.title('Gender Distribution')\n",
    "plt.xlabel('Gender')\n",
    "plt.ylabel('Count')\n",
    "plt.show()\n"
   ]
  },
  {
   "cell_type": "code",
   "execution_count": null,
   "id": "d53d2a33",
   "metadata": {},
   "outputs": [],
   "source": [
    "# Impute Race with clustering"
   ]
  },
  {
   "cell_type": "code",
   "execution_count": 40,
   "id": "1b356281",
   "metadata": {},
   "outputs": [
    {
     "data": {
      "image/png": "[encoded data removed]",
      "text/plain": [
       "<Figure size 720x576 with 1 Axes>"
      ]
     },
     "metadata": {
      "needs_background": "light"
     },
     "output_type": "display_data"
    }
   ],
   "source": [
    "#Race\n",
    "\n",
    "plt.figure(figsize=(10, 8))\n",
    "ax = sns.countplot(x='race', data=data, palette='pastel')\n",
    "\n",
    "for p in ax.patches:\n",
    "    ax.annotate(f'{p.get_height()}', (p.get_x() + p.get_width() / 2., p.get_height()),\n",
    "                ha='center', va='center', xytext=(0, 10), textcoords='offset points')\n",
    "\n",
    "plt.title('Race Distribution')\n",
    "plt.xlabel('Race')\n",
    "plt.ylabel('Count')\n",
    "plt.show()"
   ]
  },
  {
   "cell_type": "code",
   "execution_count": 8,
   "id": "6ee6e6e5",
   "metadata": {},
   "outputs": [],
   "source": [
    "\n",
    "data['diag_1'] = pd.to_numeric(data['diag_1'],errors='coerce')"
   ]
  },
  {
   "cell_type": "code",
   "execution_count": 10,
   "id": "fa74e2a2",
   "metadata": {},
   "outputs": [
    {
     "name": "stdout",
     "output_type": "stream",
     "text": [
      "    diag_1 diag_1_group  diag_1_numerical\n",
      "0   161.00    Neoplasms               8.0\n",
      "1   440.00  Circulatory               1.0\n",
      "2   250.80     Diabetes               4.0\n",
      "3   486.00  Respiratory               2.0\n",
      "4   997.00       Injury               5.0\n",
      "5   250.82     Diabetes               4.0\n",
      "6   434.00  Circulatory               1.0\n",
      "7   294.00    Neoplasms               8.0\n",
      "8   250.70     Diabetes               4.0\n",
      "9   996.00       Injury               5.0\n",
      "10  410.00  Circulatory               1.0\n",
      "11     NaN      Unknown               9.0\n",
      "12  296.00    Neoplasms               8.0\n",
      "13  414.00  Circulatory               1.0\n",
      "14  578.00    Digestive               3.0\n",
      "15  997.00       Injury               5.0\n",
      "16  296.00    Neoplasms               8.0\n",
      "17  577.00    Digestive               3.0\n",
      "18  427.00  Circulatory               1.0\n",
      "19  486.00  Respiratory               2.0\n",
      "20   38.00    Neoplasms               8.0\n",
      "21  574.00    Digestive               3.0\n",
      "22  414.00  Circulatory               1.0\n",
      "23  482.00  Respiratory               2.0\n",
      "24  410.00  Circulatory               1.0\n",
      "25  428.00  Circulatory               1.0\n",
      "26  682.00    Neoplasms               8.0\n",
      "27  996.00       Injury               5.0\n",
      "28  780.00    Neoplasms               8.0\n",
      "29  414.00  Circulatory               1.0\n",
      "30  410.00  Circulatory               1.0\n",
      "31  682.00    Neoplasms               8.0\n",
      "32     NaN      Unknown               9.0\n",
      "33  250.80     Diabetes               4.0\n",
      "34  250.70     Diabetes               4.0\n",
      "35  414.00  Circulatory               1.0\n",
      "36  486.00  Respiratory               2.0\n",
      "37  453.00  Circulatory               1.0\n",
      "38  428.00  Circulatory               1.0\n",
      "39  296.00    Neoplasms               8.0\n"
     ]
    }
   ],
   "source": [
    "\n",
    "# Label Mapping \n",
    "group_mapping = {\n",
    "    'Circulatory': list(range(390, 460)) + [785],\n",
    "    'Respiratory': list(range(460, 520)) + [786],\n",
    "    'Digestive': list(range(520, 580)) + [787],\n",
    "    'Diabetes': [250 + i / 100.0 for i in range(1, 100)],  # Include decimals from 250.00 to 250.99\n",
    "    'Injury': list(range(800, 1000)),\n",
    "    'Musculoskeletal': list(range(710, 740)),\n",
    "    'Genitourinary': list(range(580, 630)) + [788],\n",
    "    'Neoplasms': list(range(140, 240)) + [780, 781, 784] + list(range(790, 800)) + list(range(240, 280)) + list(range(680, 710)) + [782] + list(range(1, 140)) + list(range(290, 320))\n",
    "}\n",
    "\n",
    "data['diag_1_group'] = data['diag_1'].apply(lambda x: next((k for k, v in group_mapping.items() if x in v), 'Unknown'))\n",
    "\n",
    "# Assign numerical values to each category\n",
    "category_numerical_mapping = {\n",
    "    'Circulatory': 1,\n",
    "    'Respiratory': 2,\n",
    "    'Digestive': 3,\n",
    "    'Diabetes': 4,\n",
    "    'Injury': 5,\n",
    "    'Musculoskeletal': 6,\n",
    "    'Genitourinary': 7,\n",
    "    'Neoplasms': 8,\n",
    "}\n",
    "\n",
    "data['diag_1_numerical'] = data['diag_1_group'].map(category_numerical_mapping)\n",
    "data['diag_1_numerical'].fillna(9, inplace=True)\n",
    "\n",
    "print(data[['diag_1', 'diag_1_group', 'diag_1_numerical']].head(40))"
   ]
  },
  {
   "cell_type": "code",
   "execution_count": 11,
   "id": "222644b1",
   "metadata": {},
   "outputs": [
    {
     "name": "stdout",
     "output_type": "stream",
     "text": [
      "    diag_1 diag_1_group  diag_1_numerical  diag_2     diag_2_group  \\\n",
      "0   161.00    Neoplasms               8.0  496.00      Respiratory   \n",
      "1   440.00  Circulatory               1.0  682.00        Neoplasms   \n",
      "2   250.80     Diabetes               4.0  518.00      Respiratory   \n",
      "3   486.00  Respiratory               2.0  707.00        Neoplasms   \n",
      "4   997.00       Injury               5.0  599.00    Genitourinary   \n",
      "5   250.82     Diabetes               4.0  788.00    Genitourinary   \n",
      "6   434.00  Circulatory               1.0  780.00        Neoplasms   \n",
      "7   294.00    Neoplasms               8.0  250.81         Diabetes   \n",
      "8   250.70     Diabetes               4.0   40.00        Neoplasms   \n",
      "9   996.00       Injury               5.0  511.00      Respiratory   \n",
      "10  410.00  Circulatory               1.0  428.00      Circulatory   \n",
      "11     NaN      Unknown               9.0  719.00  Musculoskeletal   \n",
      "12  296.00    Neoplasms               8.0  496.00      Respiratory   \n",
      "13  414.00  Circulatory               1.0  486.00      Respiratory   \n",
      "14  578.00    Digestive               3.0  511.00      Respiratory   \n",
      "15  997.00       Injury               5.0  996.00           Injury   \n",
      "16  296.00    Neoplasms               8.0  307.00        Neoplasms   \n",
      "17  577.00    Digestive               3.0  574.00        Digestive   \n",
      "18  427.00  Circulatory               1.0  404.00      Circulatory   \n",
      "19  486.00  Respiratory               2.0  428.00      Circulatory   \n",
      "20   38.00    Neoplasms               8.0  428.00      Circulatory   \n",
      "21  574.00    Digestive               3.0  250.02         Diabetes   \n",
      "22  414.00  Circulatory               1.0  997.00           Injury   \n",
      "23  482.00  Respiratory               2.0  112.00        Neoplasms   \n",
      "24  410.00  Circulatory               1.0  428.00      Circulatory   \n",
      "25  428.00  Circulatory               1.0  410.00      Circulatory   \n",
      "26  682.00    Neoplasms               8.0  428.00      Circulatory   \n",
      "27  996.00       Injury               5.0  403.00      Circulatory   \n",
      "28  780.00    Neoplasms               8.0   38.00        Neoplasms   \n",
      "29  414.00  Circulatory               1.0  411.00      Circulatory   \n",
      "30  410.00  Circulatory               1.0  518.00      Respiratory   \n",
      "31  682.00    Neoplasms               8.0  428.00      Circulatory   \n",
      "32     NaN      Unknown               9.0  438.00      Circulatory   \n",
      "33  250.80     Diabetes               4.0  707.00        Neoplasms   \n",
      "34  250.70     Diabetes               4.0  785.00      Circulatory   \n",
      "35  414.00  Circulatory               1.0  428.00      Circulatory   \n",
      "36  486.00  Respiratory               2.0  493.00      Respiratory   \n",
      "37  453.00  Circulatory               1.0  585.00    Genitourinary   \n",
      "38  428.00  Circulatory               1.0  491.00      Respiratory   \n",
      "39  296.00    Neoplasms               8.0  296.00        Neoplasms   \n",
      "\n",
      "    diag_2_numerical  diag_3   diag_3_group  diag_3_numerical  \n",
      "0                2.0   512.0    Respiratory               2.0  \n",
      "1                8.0   707.0      Neoplasms               8.0  \n",
      "2                2.0   707.0      Neoplasms               8.0  \n",
      "3                8.0   250.8       Diabetes               4.0  \n",
      "4                7.0   576.0      Digestive               3.0  \n",
      "5                7.0   428.0    Circulatory               1.0  \n",
      "6                8.0   402.0    Circulatory               1.0  \n",
      "7                4.0   401.0    Circulatory               1.0  \n",
      "8                8.0    38.0      Neoplasms               8.0  \n",
      "9                2.0   250.4       Diabetes               4.0  \n",
      "10               1.0   424.0    Circulatory               1.0  \n",
      "11               6.0   438.0    Circulatory               1.0  \n",
      "12               2.0   428.0    Circulatory               1.0  \n",
      "13               2.0   287.0        Unknown               9.0  \n",
      "14               2.0   425.0    Circulatory               1.0  \n",
      "15               5.0    38.0      Neoplasms               8.0  \n",
      "16               8.0   305.0      Neoplasms               8.0  \n",
      "17               3.0     NaN        Unknown               9.0  \n",
      "18               1.0   427.0    Circulatory               1.0  \n",
      "19               1.0   179.0      Neoplasms               8.0  \n",
      "20               1.0   427.0    Circulatory               1.0  \n",
      "21               4.0   397.0    Circulatory               1.0  \n",
      "22               5.0   427.0    Circulatory               1.0  \n",
      "23               8.0   482.0    Respiratory               2.0  \n",
      "24               1.0   425.0    Circulatory               1.0  \n",
      "25               1.0   402.0    Circulatory               1.0  \n",
      "26               1.0   428.0    Circulatory               1.0  \n",
      "27               1.0    41.0      Neoplasms               8.0  \n",
      "28               8.0   403.0    Circulatory               1.0  \n",
      "29               1.0   427.0    Circulatory               1.0  \n",
      "30               2.0   427.0    Circulatory               1.0  \n",
      "31               1.0   424.0    Circulatory               1.0  \n",
      "32               1.0   438.0    Circulatory               1.0  \n",
      "33               8.0   682.0      Neoplasms               8.0  \n",
      "34               1.0   707.0      Neoplasms               8.0  \n",
      "35               1.0   401.0    Circulatory               1.0  \n",
      "36               2.0   428.0    Circulatory               1.0  \n",
      "37               7.0   428.0    Circulatory               1.0  \n",
      "38               2.0   596.0  Genitourinary               7.0  \n",
      "39               8.0   300.0      Neoplasms               8.0  \n"
     ]
    }
   ],
   "source": [
    "data['diag_2'] = pd.to_numeric(data['diag_2'],errors='coerce')\n",
    "data['diag_3'] = pd.to_numeric(data['diag_3'],errors='coerce') \n",
    "\n",
    "data['diag_2_group'] = data['diag_2'].apply(lambda x: next((k for k, v in group_mapping.items() if x in v), 'Unknown'))\n",
    "data['diag_2_numerical'] = data['diag_2_group'].map(category_numerical_mapping)\n",
    "data['diag_2_numerical'].fillna(9, inplace=True)\n",
    "\n",
    "# Apply the same code for 'diag_3'\n",
    "data['diag_3_group'] = data['diag_3'].apply(lambda x: next((k for k, v in group_mapping.items() if x in v), 'Unknown'))\n",
    "data['diag_3_numerical'] = data['diag_3_group'].map(category_numerical_mapping)\n",
    "data['diag_3_numerical'].fillna(9, inplace=True)\n",
    "\n",
    "print(data[['diag_1', 'diag_1_group', 'diag_1_numerical', 'diag_2', 'diag_2_group', 'diag_2_numerical', 'diag_3', 'diag_3_group', 'diag_3_numerical']].head(40))"
   ]
  },
  {
   "cell_type": "code",
   "execution_count": 12,
   "id": "4f5dd3f2",
   "metadata": {},
   "outputs": [
    {
     "name": "stdout",
     "output_type": "stream",
     "text": [
      "object\n"
     ]
    }
   ],
   "source": [
    "#Readmission correlation with other 41 features\n",
    "\n",
    "print(data['readmitted'].dtypes)"
   ]
  },
  {
   "cell_type": "code",
   "execution_count": 92,
   "id": "219aaa37",
   "metadata": {},
   "outputs": [
    {
     "data": {
      "text/plain": [
       "Index(['race', 'gender', 'age', 'admission_type_id',\n",
       "       'discharge_disposition_id', 'admission_source_id', 'time_in_hospital',\n",
       "       'num_lab_procedures', 'num_procedures', 'num_medications',\n",
       "       'number_outpatient', 'number_emergency', 'number_inpatient', 'diag_1',\n",
       "       'diag_2', 'diag_3', 'number_diagnoses', 'max_glu_serum', 'A1Cresult',\n",
       "       'metformin', 'repaglinide', 'nateglinide', 'chlorpropamide',\n",
       "       'glimepiride', 'acetohexamide', 'glipizide', 'glyburide', 'tolbutamide',\n",
       "       'pioglitazone', 'rosiglitazone', 'acarbose', 'miglitol', 'troglitazone',\n",
       "       'tolazamide', 'insulin', 'glyburide-metformin', 'glipizide-metformin',\n",
       "       'metformin-rosiglitazone', 'metformin-pioglitazone', 'change',\n",
       "       'diabetesMed', 'readmitted', 'diag_1_group', 'diag_1_numerical',\n",
       "       'diag_2_group', 'diag_2_numerical', 'diag_3_group', 'diag_3_numerical'],\n",
       "      dtype='object')"
      ]
     },
     "execution_count": 92,
     "metadata": {},
     "output_type": "execute_result"
    }
   ],
   "source": [
    "data.columns"
   ]
  },
  {
   "cell_type": "code",
   "execution_count": 13,
   "id": "15366b31",
   "metadata": {},
   "outputs": [],
   "source": [
    "features_to_drop = ['diag_1', 'diag_2', 'diag_3','diag_1_group','diag_2_group','diag_3_group']\n",
    "data = data.drop(columns=features_to_drop, axis=1)"
   ]
  },
  {
   "cell_type": "code",
   "execution_count": 18,
   "id": "4effb26c",
   "metadata": {},
   "outputs": [
    {
     "data": {
      "text/plain": [
       "Index(['race', 'gender', 'age', 'admission_type_id',\n",
       "       'discharge_disposition_id', 'admission_source_id', 'time_in_hospital',\n",
       "       'num_lab_procedures', 'num_procedures', 'num_medications',\n",
       "       'number_outpatient', 'number_emergency', 'number_inpatient',\n",
       "       'number_diagnoses', 'max_glu_serum', 'A1Cresult', 'metformin',\n",
       "       'repaglinide', 'nateglinide', 'chlorpropamide', 'glimepiride',\n",
       "       'acetohexamide', 'glipizide', 'glyburide', 'tolbutamide',\n",
       "       'pioglitazone', 'rosiglitazone', 'acarbose', 'miglitol', 'troglitazone',\n",
       "       'tolazamide', 'insulin', 'glyburide-metformin', 'glipizide-metformin',\n",
       "       'metformin-rosiglitazone', 'metformin-pioglitazone', 'change',\n",
       "       'diabetesMed', 'readmitted', 'diag_1_numerical', 'diag_2_numerical',\n",
       "       'diag_3_numerical'],\n",
       "      dtype='object')"
      ]
     },
     "execution_count": 18,
     "metadata": {},
     "output_type": "execute_result"
    }
   ],
   "source": [
    "data.columns"
   ]
  },
  {
   "cell_type": "code",
   "execution_count": 14,
   "id": "a4aeb53f",
   "metadata": {},
   "outputs": [
    {
     "name": "stdout",
     "output_type": "stream",
     "text": [
      "Mapping of original values to encoded values:\n",
      "<30 : 0\n",
      ">30 : 1\n",
      "NO : 2\n"
     ]
    }
   ],
   "source": [
    "le = LabelEncoder()\n",
    "data['readmitted_encoded'] = le.fit_transform(data['readmitted'])\n",
    "print(\"Mapping of original values to encoded values:\")\n",
    "for original, encoded in zip(le.classes_, range(len(le.classes_))):\n",
    "    print(f\"{original} : {encoded}\")"
   ]
  },
  {
   "cell_type": "code",
   "execution_count": 15,
   "id": "7e987391",
   "metadata": {},
   "outputs": [],
   "source": [
    "features_to_drop = ['readmitted']\n",
    "data = data.drop(columns=features_to_drop, axis=1)"
   ]
  },
  {
   "cell_type": "code",
   "execution_count": null,
   "id": "9b6e0710",
   "metadata": {},
   "outputs": [],
   "source": [
    "# Correlation only based on readmission \n",
    "# Labelly encode the rest of the features "
   ]
  },
  {
   "cell_type": "code",
   "execution_count": 15,
   "id": "d48bfce3",
   "metadata": {},
   "outputs": [
    {
     "data": {
      "text/plain": [
       "<AxesSubplot:>"
      ]
     },
     "execution_count": 15,
     "metadata": {},
     "output_type": "execute_result"
    },
    {
     "data": {
      "image/png": "[encoded data removed]",
      "text/plain": [
       "<Figure size 864x720 with 2 Axes>"
      ]
     },
     "metadata": {
      "needs_background": "light"
     },
     "output_type": "display_data"
    }
   ],
   "source": [
    "correlation_matrix = data.corr() \n",
    "plt.figure(figsize=(12, 10))\n",
    "sns.heatmap(correlation_matrix, annot=True, cmap='coolwarm', fmt=\".2f\")"
   ]
  },
  {
   "cell_type": "code",
   "execution_count": 19,
   "id": "247c5414",
   "metadata": {},
   "outputs": [
    {
     "data": {
      "image/png": "[encoded data removed]",
      "text/plain": [
       "<Figure size 720x432 with 1 Axes>"
      ]
     },
     "metadata": {
      "needs_background": "light"
     },
     "output_type": "display_data"
    }
   ],
   "source": [
    "# Mapping of original values to encoded values\n",
    "readmitted_mapping = {0: '<30', 1: '>30', 2: 'NO'}\n",
    "\n",
    "# Map encoded values to their original labels\n",
    "data['readmitted_label'] = data['readmitted_encoded'].map(readmitted_mapping)\n",
    "\n",
    "# Group data\n",
    "grouped_data = data.groupby(['readmitted_label', 'diag_1_numerical']).size().unstack()\n",
    "\n",
    "# Normalize the data to get proportions\n",
    "grouped_data = grouped_data.div(grouped_data.sum(axis=1), axis=0)\n",
    "\n",
    "# Plot stacked bar chart\n",
    "plt.figure(figsize=(10, 6))\n",
    "sns.barplot(x=grouped_data.columns, y=grouped_data.loc['<30'], label='Readmitted <30', color='green')\n",
    "sns.barplot(x=grouped_data.columns, y=grouped_data.loc['>30'], label='Readmitted >30', color='blue')\n",
    "sns.barplot(x=grouped_data.columns, y=grouped_data.loc['NO'], label='Readmitted NO', color='orange')\n",
    "\n",
    "plt.title('Stacked Bar Chart of Diagnosis_1 by Readmitted')\n",
    "plt.xlabel('Diagnosis Categories')\n",
    "plt.ylabel('Proportion')\n",
    "plt.legend()\n",
    "plt.show()"
   ]
  },
  {
   "cell_type": "code",
   "execution_count": 20,
   "id": "f8764f3f",
   "metadata": {},
   "outputs": [
    {
     "data": {
      "text/plain": [
       "2    43611\n",
       "1    17637\n",
       "0     4684\n",
       "Name: readmitted_encoded, dtype: int64"
      ]
     },
     "execution_count": 20,
     "metadata": {},
     "output_type": "execute_result"
    }
   ],
   "source": [
    "data['readmitted_encoded'].value_counts()"
   ]
  },
  {
   "cell_type": "code",
   "execution_count": 22,
   "id": "76a44528",
   "metadata": {},
   "outputs": [
    {
     "name": "stdout",
     "output_type": "stream",
     "text": [
      "Column: race, Type: object\n",
      "Column: gender, Type: object\n",
      "Column: age, Type: object\n",
      "Column: admission_type_id, Type: int64\n",
      "Column: discharge_disposition_id, Type: int64\n",
      "Column: admission_source_id, Type: int64\n",
      "Column: time_in_hospital, Type: int64\n",
      "Column: num_lab_procedures, Type: int64\n",
      "Column: num_procedures, Type: int64\n",
      "Column: num_medications, Type: int64\n",
      "Column: number_outpatient, Type: int64\n",
      "Column: number_emergency, Type: int64\n",
      "Column: number_inpatient, Type: int64\n",
      "Column: number_diagnoses, Type: int64\n",
      "Column: max_glu_serum, Type: object\n",
      "Column: A1Cresult, Type: object\n",
      "Column: metformin, Type: object\n",
      "Column: repaglinide, Type: object\n",
      "Column: nateglinide, Type: object\n",
      "Column: chlorpropamide, Type: object\n",
      "Column: glimepiride, Type: object\n",
      "Column: acetohexamide, Type: object\n",
      "Column: glipizide, Type: object\n",
      "Column: glyburide, Type: object\n",
      "Column: tolbutamide, Type: object\n",
      "Column: pioglitazone, Type: object\n",
      "Column: rosiglitazone, Type: object\n",
      "Column: acarbose, Type: object\n",
      "Column: miglitol, Type: object\n",
      "Column: troglitazone, Type: object\n",
      "Column: tolazamide, Type: object\n",
      "Column: insulin, Type: object\n",
      "Column: glyburide-metformin, Type: object\n",
      "Column: glipizide-metformin, Type: object\n",
      "Column: metformin-rosiglitazone, Type: object\n",
      "Column: metformin-pioglitazone, Type: object\n",
      "Column: change, Type: object\n",
      "Column: diabetesMed, Type: object\n",
      "Column: diag_1_numerical, Type: float64\n",
      "Column: diag_2_numerical, Type: float64\n",
      "Column: diag_3_numerical, Type: float64\n",
      "Column: readmitted_encoded, Type: int32\n",
      "Column: readmitted_label, Type: object\n"
     ]
    }
   ],
   "source": [
    "column_types = data.dtypes\n",
    "\n",
    "for column, dtype in column_types.items():\n",
    "    print(f'Column: {column}, Type: {dtype}')"
   ]
  },
  {
   "cell_type": "code",
   "execution_count": 24,
   "id": "c6ac2249",
   "metadata": {},
   "outputs": [
    {
     "data": {
      "text/html": [
       "<div>\n",
       "<style scoped>\n",
       "    .dataframe tbody tr th:only-of-type {\n",
       "        vertical-align: middle;\n",
       "    }\n",
       "\n",
       "    .dataframe tbody tr th {\n",
       "        vertical-align: top;\n",
       "    }\n",
       "\n",
       "    .dataframe thead th {\n",
       "        text-align: right;\n",
       "    }\n",
       "</style>\n",
       "<table border=\"1\" class=\"dataframe\">\n",
       "  <thead>\n",
       "    <tr style=\"text-align: right;\">\n",
       "      <th></th>\n",
       "      <th>race</th>\n",
       "      <th>gender</th>\n",
       "      <th>age</th>\n",
       "      <th>admission_type_id</th>\n",
       "      <th>discharge_disposition_id</th>\n",
       "      <th>admission_source_id</th>\n",
       "      <th>time_in_hospital</th>\n",
       "      <th>num_lab_procedures</th>\n",
       "      <th>num_procedures</th>\n",
       "      <th>num_medications</th>\n",
       "      <th>...</th>\n",
       "      <th>glipizide-metformin</th>\n",
       "      <th>metformin-rosiglitazone</th>\n",
       "      <th>metformin-pioglitazone</th>\n",
       "      <th>change</th>\n",
       "      <th>diabetesMed</th>\n",
       "      <th>diag_1_numerical</th>\n",
       "      <th>diag_2_numerical</th>\n",
       "      <th>diag_3_numerical</th>\n",
       "      <th>readmitted_encoded</th>\n",
       "      <th>readmitted_label</th>\n",
       "    </tr>\n",
       "  </thead>\n",
       "  <tbody>\n",
       "    <tr>\n",
       "      <th>0</th>\n",
       "      <td>Caucasian</td>\n",
       "      <td>Female</td>\n",
       "      <td>[80-90)</td>\n",
       "      <td>1</td>\n",
       "      <td>6</td>\n",
       "      <td>7</td>\n",
       "      <td>14</td>\n",
       "      <td>53</td>\n",
       "      <td>3</td>\n",
       "      <td>12</td>\n",
       "      <td>...</td>\n",
       "      <td>No</td>\n",
       "      <td>No</td>\n",
       "      <td>No</td>\n",
       "      <td>No</td>\n",
       "      <td>Yes</td>\n",
       "      <td>8.0</td>\n",
       "      <td>2.0</td>\n",
       "      <td>2.0</td>\n",
       "      <td>0</td>\n",
       "      <td>&lt;30</td>\n",
       "    </tr>\n",
       "    <tr>\n",
       "      <th>1</th>\n",
       "      <td>AfricanAmerican</td>\n",
       "      <td>Female</td>\n",
       "      <td>[70-80)</td>\n",
       "      <td>1</td>\n",
       "      <td>18</td>\n",
       "      <td>7</td>\n",
       "      <td>14</td>\n",
       "      <td>50</td>\n",
       "      <td>3</td>\n",
       "      <td>37</td>\n",
       "      <td>...</td>\n",
       "      <td>No</td>\n",
       "      <td>No</td>\n",
       "      <td>No</td>\n",
       "      <td>No</td>\n",
       "      <td>Yes</td>\n",
       "      <td>1.0</td>\n",
       "      <td>8.0</td>\n",
       "      <td>8.0</td>\n",
       "      <td>0</td>\n",
       "      <td>&lt;30</td>\n",
       "    </tr>\n",
       "    <tr>\n",
       "      <th>2</th>\n",
       "      <td>Caucasian</td>\n",
       "      <td>Female</td>\n",
       "      <td>[60-70)</td>\n",
       "      <td>3</td>\n",
       "      <td>3</td>\n",
       "      <td>1</td>\n",
       "      <td>14</td>\n",
       "      <td>64</td>\n",
       "      <td>1</td>\n",
       "      <td>50</td>\n",
       "      <td>...</td>\n",
       "      <td>No</td>\n",
       "      <td>No</td>\n",
       "      <td>No</td>\n",
       "      <td>Ch</td>\n",
       "      <td>Yes</td>\n",
       "      <td>4.0</td>\n",
       "      <td>2.0</td>\n",
       "      <td>8.0</td>\n",
       "      <td>1</td>\n",
       "      <td>&gt;30</td>\n",
       "    </tr>\n",
       "    <tr>\n",
       "      <th>3</th>\n",
       "      <td>Caucasian</td>\n",
       "      <td>Female</td>\n",
       "      <td>[90-100)</td>\n",
       "      <td>2</td>\n",
       "      <td>3</td>\n",
       "      <td>7</td>\n",
       "      <td>14</td>\n",
       "      <td>55</td>\n",
       "      <td>6</td>\n",
       "      <td>17</td>\n",
       "      <td>...</td>\n",
       "      <td>No</td>\n",
       "      <td>No</td>\n",
       "      <td>No</td>\n",
       "      <td>Ch</td>\n",
       "      <td>Yes</td>\n",
       "      <td>2.0</td>\n",
       "      <td>8.0</td>\n",
       "      <td>4.0</td>\n",
       "      <td>2</td>\n",
       "      <td>NO</td>\n",
       "    </tr>\n",
       "    <tr>\n",
       "      <th>4</th>\n",
       "      <td>Caucasian</td>\n",
       "      <td>Female</td>\n",
       "      <td>[70-80)</td>\n",
       "      <td>1</td>\n",
       "      <td>6</td>\n",
       "      <td>7</td>\n",
       "      <td>14</td>\n",
       "      <td>28</td>\n",
       "      <td>2</td>\n",
       "      <td>16</td>\n",
       "      <td>...</td>\n",
       "      <td>No</td>\n",
       "      <td>No</td>\n",
       "      <td>No</td>\n",
       "      <td>No</td>\n",
       "      <td>No</td>\n",
       "      <td>5.0</td>\n",
       "      <td>7.0</td>\n",
       "      <td>3.0</td>\n",
       "      <td>1</td>\n",
       "      <td>&gt;30</td>\n",
       "    </tr>\n",
       "  </tbody>\n",
       "</table>\n",
       "<p>5 rows × 43 columns</p>\n",
       "</div>"
      ],
      "text/plain": [
       "              race  gender       age  admission_type_id  \\\n",
       "0        Caucasian  Female   [80-90)                  1   \n",
       "1  AfricanAmerican  Female   [70-80)                  1   \n",
       "2        Caucasian  Female   [60-70)                  3   \n",
       "3        Caucasian  Female  [90-100)                  2   \n",
       "4        Caucasian  Female   [70-80)                  1   \n",
       "\n",
       "   discharge_disposition_id  admission_source_id  time_in_hospital  \\\n",
       "0                         6                    7                14   \n",
       "1                        18                    7                14   \n",
       "2                         3                    1                14   \n",
       "3                         3                    7                14   \n",
       "4                         6                    7                14   \n",
       "\n",
       "   num_lab_procedures  num_procedures  num_medications  ...  \\\n",
       "0                  53               3               12  ...   \n",
       "1                  50               3               37  ...   \n",
       "2                  64               1               50  ...   \n",
       "3                  55               6               17  ...   \n",
       "4                  28               2               16  ...   \n",
       "\n",
       "   glipizide-metformin  metformin-rosiglitazone  metformin-pioglitazone  \\\n",
       "0                   No                       No                      No   \n",
       "1                   No                       No                      No   \n",
       "2                   No                       No                      No   \n",
       "3                   No                       No                      No   \n",
       "4                   No                       No                      No   \n",
       "\n",
       "   change diabetesMed diag_1_numerical diag_2_numerical diag_3_numerical  \\\n",
       "0      No         Yes              8.0              2.0              2.0   \n",
       "1      No         Yes              1.0              8.0              8.0   \n",
       "2      Ch         Yes              4.0              2.0              8.0   \n",
       "3      Ch         Yes              2.0              8.0              4.0   \n",
       "4      No          No              5.0              7.0              3.0   \n",
       "\n",
       "  readmitted_encoded readmitted_label  \n",
       "0                  0              <30  \n",
       "1                  0              <30  \n",
       "2                  1              >30  \n",
       "3                  2               NO  \n",
       "4                  1              >30  \n",
       "\n",
       "[5 rows x 43 columns]"
      ]
     },
     "execution_count": 24,
     "metadata": {},
     "output_type": "execute_result"
    }
   ],
   "source": [
    "data.head()"
   ]
  },
  {
   "cell_type": "code",
   "execution_count": 16,
   "id": "def67258",
   "metadata": {},
   "outputs": [
    {
     "data": {
      "text/plain": [
       "Index(['race', 'gender', 'age', 'admission_type_id',\n",
       "       'discharge_disposition_id', 'admission_source_id', 'time_in_hospital',\n",
       "       'num_lab_procedures', 'num_procedures', 'num_medications',\n",
       "       'number_outpatient', 'number_emergency', 'number_inpatient',\n",
       "       'number_diagnoses', 'max_glu_serum', 'A1Cresult', 'metformin',\n",
       "       'repaglinide', 'nateglinide', 'chlorpropamide', 'glimepiride',\n",
       "       'acetohexamide', 'glipizide', 'glyburide', 'tolbutamide',\n",
       "       'pioglitazone', 'rosiglitazone', 'acarbose', 'miglitol', 'troglitazone',\n",
       "       'tolazamide', 'insulin', 'glyburide-metformin', 'glipizide-metformin',\n",
       "       'metformin-rosiglitazone', 'metformin-pioglitazone', 'change',\n",
       "       'diabetesMed', 'diag_1_numerical', 'diag_2_numerical',\n",
       "       'diag_3_numerical', 'readmitted_encoded'],\n",
       "      dtype='object')"
      ]
     },
     "execution_count": 16,
     "metadata": {},
     "output_type": "execute_result"
    }
   ],
   "source": [
    "data.columns\n"
   ]
  },
  {
   "cell_type": "code",
   "execution_count": 18,
   "id": "8fb307bf",
   "metadata": {},
   "outputs": [],
   "source": [
    "\n",
    "label_encoder = LabelEncoder()\n",
    "features_to_encode = ['max_glu_serum', 'A1Cresult', 'metformin',\n",
    "       'repaglinide', 'nateglinide', 'chlorpropamide', 'glimepiride',\n",
    "       'acetohexamide', 'glipizide', 'glyburide', 'tolbutamide',\n",
    "       'pioglitazone', 'rosiglitazone', 'acarbose', 'miglitol', 'troglitazone',\n",
    "       'tolazamide', 'insulin', 'glyburide-metformin', 'glipizide-metformin',\n",
    "       'metformin-rosiglitazone', 'metformin-pioglitazone', 'change',\n",
    "       'diabetesMed']\n",
    "for column in features_to_encode:\n",
    "    data[column] = label_encoder.fit_transform(data[column])"
   ]
  },
  {
   "cell_type": "code",
   "execution_count": 19,
   "id": "87f5997c",
   "metadata": {},
   "outputs": [
    {
     "data": {
      "text/html": [
       "<div>\n",
       "<style scoped>\n",
       "    .dataframe tbody tr th:only-of-type {\n",
       "        vertical-align: middle;\n",
       "    }\n",
       "\n",
       "    .dataframe tbody tr th {\n",
       "        vertical-align: top;\n",
       "    }\n",
       "\n",
       "    .dataframe thead th {\n",
       "        text-align: right;\n",
       "    }\n",
       "</style>\n",
       "<table border=\"1\" class=\"dataframe\">\n",
       "  <thead>\n",
       "    <tr style=\"text-align: right;\">\n",
       "      <th></th>\n",
       "      <th>race</th>\n",
       "      <th>gender</th>\n",
       "      <th>age</th>\n",
       "      <th>admission_type_id</th>\n",
       "      <th>discharge_disposition_id</th>\n",
       "      <th>admission_source_id</th>\n",
       "      <th>time_in_hospital</th>\n",
       "      <th>num_lab_procedures</th>\n",
       "      <th>num_procedures</th>\n",
       "      <th>num_medications</th>\n",
       "      <th>...</th>\n",
       "      <th>glyburide-metformin</th>\n",
       "      <th>glipizide-metformin</th>\n",
       "      <th>metformin-rosiglitazone</th>\n",
       "      <th>metformin-pioglitazone</th>\n",
       "      <th>change</th>\n",
       "      <th>diabetesMed</th>\n",
       "      <th>diag_1_numerical</th>\n",
       "      <th>diag_2_numerical</th>\n",
       "      <th>diag_3_numerical</th>\n",
       "      <th>readmitted_encoded</th>\n",
       "    </tr>\n",
       "  </thead>\n",
       "  <tbody>\n",
       "    <tr>\n",
       "      <th>0</th>\n",
       "      <td>Caucasian</td>\n",
       "      <td>Female</td>\n",
       "      <td>[80-90)</td>\n",
       "      <td>1</td>\n",
       "      <td>6</td>\n",
       "      <td>7</td>\n",
       "      <td>14</td>\n",
       "      <td>53</td>\n",
       "      <td>3</td>\n",
       "      <td>12</td>\n",
       "      <td>...</td>\n",
       "      <td>1</td>\n",
       "      <td>0</td>\n",
       "      <td>0</td>\n",
       "      <td>0</td>\n",
       "      <td>1</td>\n",
       "      <td>1</td>\n",
       "      <td>8.0</td>\n",
       "      <td>2.0</td>\n",
       "      <td>2.0</td>\n",
       "      <td>0</td>\n",
       "    </tr>\n",
       "    <tr>\n",
       "      <th>1</th>\n",
       "      <td>AfricanAmerican</td>\n",
       "      <td>Female</td>\n",
       "      <td>[70-80)</td>\n",
       "      <td>1</td>\n",
       "      <td>18</td>\n",
       "      <td>7</td>\n",
       "      <td>14</td>\n",
       "      <td>50</td>\n",
       "      <td>3</td>\n",
       "      <td>37</td>\n",
       "      <td>...</td>\n",
       "      <td>1</td>\n",
       "      <td>0</td>\n",
       "      <td>0</td>\n",
       "      <td>0</td>\n",
       "      <td>1</td>\n",
       "      <td>1</td>\n",
       "      <td>1.0</td>\n",
       "      <td>8.0</td>\n",
       "      <td>8.0</td>\n",
       "      <td>0</td>\n",
       "    </tr>\n",
       "    <tr>\n",
       "      <th>2</th>\n",
       "      <td>Caucasian</td>\n",
       "      <td>Female</td>\n",
       "      <td>[60-70)</td>\n",
       "      <td>3</td>\n",
       "      <td>3</td>\n",
       "      <td>1</td>\n",
       "      <td>14</td>\n",
       "      <td>64</td>\n",
       "      <td>1</td>\n",
       "      <td>50</td>\n",
       "      <td>...</td>\n",
       "      <td>1</td>\n",
       "      <td>0</td>\n",
       "      <td>0</td>\n",
       "      <td>0</td>\n",
       "      <td>0</td>\n",
       "      <td>1</td>\n",
       "      <td>4.0</td>\n",
       "      <td>2.0</td>\n",
       "      <td>8.0</td>\n",
       "      <td>1</td>\n",
       "    </tr>\n",
       "    <tr>\n",
       "      <th>3</th>\n",
       "      <td>Caucasian</td>\n",
       "      <td>Female</td>\n",
       "      <td>[90-100)</td>\n",
       "      <td>2</td>\n",
       "      <td>3</td>\n",
       "      <td>7</td>\n",
       "      <td>14</td>\n",
       "      <td>55</td>\n",
       "      <td>6</td>\n",
       "      <td>17</td>\n",
       "      <td>...</td>\n",
       "      <td>1</td>\n",
       "      <td>0</td>\n",
       "      <td>0</td>\n",
       "      <td>0</td>\n",
       "      <td>0</td>\n",
       "      <td>1</td>\n",
       "      <td>2.0</td>\n",
       "      <td>8.0</td>\n",
       "      <td>4.0</td>\n",
       "      <td>2</td>\n",
       "    </tr>\n",
       "    <tr>\n",
       "      <th>4</th>\n",
       "      <td>Caucasian</td>\n",
       "      <td>Female</td>\n",
       "      <td>[70-80)</td>\n",
       "      <td>1</td>\n",
       "      <td>6</td>\n",
       "      <td>7</td>\n",
       "      <td>14</td>\n",
       "      <td>28</td>\n",
       "      <td>2</td>\n",
       "      <td>16</td>\n",
       "      <td>...</td>\n",
       "      <td>1</td>\n",
       "      <td>0</td>\n",
       "      <td>0</td>\n",
       "      <td>0</td>\n",
       "      <td>1</td>\n",
       "      <td>0</td>\n",
       "      <td>5.0</td>\n",
       "      <td>7.0</td>\n",
       "      <td>3.0</td>\n",
       "      <td>1</td>\n",
       "    </tr>\n",
       "  </tbody>\n",
       "</table>\n",
       "<p>5 rows × 42 columns</p>\n",
       "</div>"
      ],
      "text/plain": [
       "              race  gender       age  admission_type_id  \\\n",
       "0        Caucasian  Female   [80-90)                  1   \n",
       "1  AfricanAmerican  Female   [70-80)                  1   \n",
       "2        Caucasian  Female   [60-70)                  3   \n",
       "3        Caucasian  Female  [90-100)                  2   \n",
       "4        Caucasian  Female   [70-80)                  1   \n",
       "\n",
       "   discharge_disposition_id  admission_source_id  time_in_hospital  \\\n",
       "0                         6                    7                14   \n",
       "1                        18                    7                14   \n",
       "2                         3                    1                14   \n",
       "3                         3                    7                14   \n",
       "4                         6                    7                14   \n",
       "\n",
       "   num_lab_procedures  num_procedures  num_medications  ...  \\\n",
       "0                  53               3               12  ...   \n",
       "1                  50               3               37  ...   \n",
       "2                  64               1               50  ...   \n",
       "3                  55               6               17  ...   \n",
       "4                  28               2               16  ...   \n",
       "\n",
       "   glyburide-metformin  glipizide-metformin  metformin-rosiglitazone  \\\n",
       "0                    1                    0                        0   \n",
       "1                    1                    0                        0   \n",
       "2                    1                    0                        0   \n",
       "3                    1                    0                        0   \n",
       "4                    1                    0                        0   \n",
       "\n",
       "   metformin-pioglitazone  change  diabetesMed  diag_1_numerical  \\\n",
       "0                       0       1            1               8.0   \n",
       "1                       0       1            1               1.0   \n",
       "2                       0       0            1               4.0   \n",
       "3                       0       0            1               2.0   \n",
       "4                       0       1            0               5.0   \n",
       "\n",
       "   diag_2_numerical  diag_3_numerical  readmitted_encoded  \n",
       "0               2.0               2.0                   0  \n",
       "1               8.0               8.0                   0  \n",
       "2               2.0               8.0                   1  \n",
       "3               8.0               4.0                   2  \n",
       "4               7.0               3.0                   1  \n",
       "\n",
       "[5 rows x 42 columns]"
      ]
     },
     "execution_count": 19,
     "metadata": {},
     "output_type": "execute_result"
    }
   ],
   "source": [
    "data.head()"
   ]
  },
  {
   "cell_type": "code",
   "execution_count": 24,
   "id": "d0b96c14",
   "metadata": {},
   "outputs": [
    {
     "name": "stdout",
     "output_type": "stream",
     "text": [
      "admission_type_id          -0.017136\n",
      "discharge_disposition_id   -0.001523\n",
      "admission_source_id        -0.042162\n",
      "time_in_hospital           -0.167198\n",
      "num_lab_procedures         -0.097754\n",
      "num_procedures             -0.016500\n",
      "num_medications            -0.102247\n",
      "number_outpatient          -0.063010\n",
      "number_emergency           -0.077699\n",
      "number_inpatient           -0.210053\n",
      "number_diagnoses           -0.126456\n",
      "max_glu_serum               0.014808\n",
      "A1Cresult                   0.002173\n",
      "metformin                   0.020538\n",
      "repaglinide                -0.021189\n",
      "nateglinide                -0.006338\n",
      "chlorpropamide             -0.001662\n",
      "glimepiride                -0.002662\n",
      "acetohexamide              -0.003711\n",
      "glipizide                  -0.022158\n",
      "glyburide                  -0.003330\n",
      "tolbutamide                 0.001468\n",
      "pioglitazone               -0.011653\n",
      "rosiglitazone              -0.014209\n",
      "acarbose                   -0.006631\n",
      "miglitol                    0.002941\n",
      "troglitazone               -0.002799\n",
      "tolazamide                  0.006497\n",
      "insulin                    -0.011947\n",
      "glyburide-metformin         0.005435\n",
      "glipizide-metformin        -0.002691\n",
      "metformin-rosiglitazone     0.002574\n",
      "metformin-pioglitazone      0.002574\n",
      "change                      0.050362\n",
      "diabetesMed                -0.066553\n",
      "diag_1_numerical            0.022383\n",
      "diag_2_numerical            0.035053\n",
      "diag_3_numerical            0.044355\n",
      "readmitted_encoded          1.000000\n",
      "Name: readmitted_encoded, dtype: float64\n"
     ]
    }
   ],
   "source": [
    "correlation_matrix = data.corr() \n",
    "print(correlation_matrix['readmitted_encoded'])"
   ]
  },
  {
   "cell_type": "code",
   "execution_count": null,
   "id": "ebfd0e03",
   "metadata": {},
   "outputs": [],
   "source": []
  }
 ],
 "metadata": {
  "kernelspec": {
   "display_name": "Python 3 (ipykernel)",
   "language": "python",
   "name": "python3"
  },
  "language_info": {
   "codemirror_mode": {
    "name": "ipython",
    "version": 3
   },
   "file_extension": ".py",
   "mimetype": "text/x-python",
   "name": "python",
   "nbconvert_exporter": "python",
   "pygments_lexer": "ipython3",
   "version": "3.9.12"
  }
 },
 "nbformat": 4,
 "nbformat_minor": 5
}
